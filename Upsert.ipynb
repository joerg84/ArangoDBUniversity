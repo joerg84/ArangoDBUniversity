{
  "nbformat": 4,
  "nbformat_minor": 0,
  "metadata": {
    "kernelspec": {
      "display_name": "Python 3",
      "language": "python",
      "name": "python3"
    },
    "language_info": {
      "codemirror_mode": {
        "name": "ipython",
        "version": 3
      },
      "file_extension": ".py",
      "mimetype": "text/x-python",
      "name": "python",
      "nbconvert_exporter": "python",
      "pygments_lexer": "ipython3",
      "version": "3.7.7"
    },
    "colab": {
      "name": "Upsert.ipynb",
      "provenance": [],
      "toc_visible": true,
      "include_colab_link": true
    }
  },
  "cells": [
    {
      "cell_type": "markdown",
      "metadata": {
        "id": "view-in-github",
        "colab_type": "text"
      },
      "source": [
        "<a href=\"https://colab.research.google.com/github/arangodb/interactive_tutorials/blob/master/notebooks/Upsert.ipynb\" target=\"_parent\"><img src=\"https://colab.research.google.com/assets/colab-badge.svg\" alt=\"Open In Colab\"/></a>"
      ]
    },
    {
      "cell_type": "markdown",
      "metadata": {
        "id": "C7LbUI2MDKLO"
      },
      "source": [
        "![arangodb](https://github.com/joerg84/ArangoDBUniversity/blob/master/img/ArangoDB_logo.png?raw=1)"
      ]
    },
    {
      "cell_type": "markdown",
      "metadata": {
        "id": "qEW8J_QXDKLP"
      },
      "source": [
        "# Insert, Replace, Upsert"
      ]
    },
    {
      "cell_type": "markdown",
      "metadata": {
        "id": "huIphZIVDKLQ"
      },
      "source": [
        "With a database one sometimes wants to insert data which might be stored already. Instead of re-inserting the data again in case it is already present, we would like to update it.\n",
        "In this tutorial we want to take a look at the different options to achieve this with ArangoDB."
      ]
    },
    {
      "cell_type": "code",
      "metadata": {
        "id": "mx6uGTxcDKLQ"
      },
      "source": [
        "%%capture\n",
        "!git clone -b oasis_connector --single-branch https://github.com/arangodb/interactive_tutorials.git\n",
        "!rsync -av interactive_tutorials/ ./ --exclude=.git\n",
        "!pip3 install pyarango\n",
        "!pip3 install \"python-arango>=5.0\""
      ],
      "execution_count": null,
      "outputs": []
    },
    {
      "cell_type": "code",
      "metadata": {
        "id": "bVk_rF_PDKLT"
      },
      "source": [
        "import json\n",
        "import requests\n",
        "import sys\n",
        "import pprint\n",
        "import oasis\n",
        "import time\n",
        "\n",
        "from pyArango.connection import *\n",
        "from pyArango.collection import Collection, Edges, Field\n",
        "from pyArango.collection import BulkOperation as BulkOperation"
      ],
      "execution_count": null,
      "outputs": []
    },
    {
      "cell_type": "markdown",
      "metadata": {
        "id": "m_kNC6KADKLV"
      },
      "source": [
        "First, create a temporary database:"
      ]
    },
    {
      "cell_type": "code",
      "metadata": {
        "id": "hmMX5NUrDKLV"
      },
      "source": [
        "pp = pprint.PrettyPrinter()\n",
        "\n",
        "## Retrieve tmp credentials from ArangoDB Tutorial Service\n",
        "login = oasis.getTempCredentials(tutorialName='Upsert37')\n",
        "\n",
        "## Connect to the temp database\n",
        "conn = oasis.connect(login)\n",
        "db = conn[login[\"dbName\"]] \n",
        "pp.pprint(login)"
      ],
      "execution_count": null,
      "outputs": []
    },
    {
      "cell_type": "markdown",
      "metadata": {
        "id": "cYCAgKMiDKLZ"
      },
      "source": [
        "## UPSERT"
      ]
    },
    {
      "cell_type": "markdown",
      "metadata": {
        "id": "sNnXErvaDKLZ"
      },
      "source": [
        "Let us create a sample collection and convenience print function: "
      ]
    },
    {
      "cell_type": "code",
      "metadata": {
        "id": "ytjna6bBDKLZ"
      },
      "source": [
        "db.createCollection(name=\"Websites\")\n",
        "\n",
        "all_query = \"\"\"\n",
        "FOR doc in Websites\n",
        "RETURN doc\n",
        "\"\"\"\n",
        "\n",
        "def print_all():\n",
        "    query_result = db.AQLQuery(all_query, rawResults=True)\n",
        "    for doc in query_result:\n",
        "        print(doc)\n",
        "        print()\n",
        "        \n",
        "print_all()"
      ],
      "execution_count": null,
      "outputs": []
    },
    {
      "cell_type": "markdown",
      "metadata": {
        "id": "LoYNJkKkDKLb"
      },
      "source": [
        "Let us define and run an UPSERT query for the first time."
      ]
    },
    {
      "cell_type": "code",
      "metadata": {
        "id": "ulFG_klTDKLc"
      },
      "source": [
        "upsert_query = \"\"\"\n",
        "UPSERT { page: \"index.html\" }\n",
        "    INSERT { page: \"index.html\", status: \"inserted\", value: 1 } \n",
        "    UPDATE { status: \"updated\" }\n",
        "IN Websites\n",
        "\"\"\"\n",
        "\n",
        "db.AQLQuery(upsert_query)\n",
        "\n",
        "print_all()"
      ],
      "execution_count": null,
      "outputs": []
    },
    {
      "cell_type": "markdown",
      "metadata": {
        "id": "0F0En4s9DKLe"
      },
      "source": [
        "When running the query for the first time we should see `'status': 'inserted'`\n",
        "Let us run the same query again:"
      ]
    },
    {
      "cell_type": "code",
      "metadata": {
        "id": "-10j4Bs5DKLe"
      },
      "source": [
        "db.AQLQuery(upsert_query)\n",
        "\n",
        "print_all()"
      ],
      "execution_count": null,
      "outputs": []
    },
    {
      "cell_type": "markdown",
      "metadata": {
        "id": "JoMw0FRyDKLg"
      },
      "source": [
        "This time we should see `'status': 'updated'` but all the other fields unchanged."
      ]
    },
    {
      "cell_type": "markdown",
      "metadata": {
        "id": "ZsdTiWTBDKLg"
      },
      "source": [
        "Let us examine the UPSERT statement a bit further:\n",
        "\n",
        "```\n",
        "UPSERT { page: \"index.html\" }\n",
        "    INSERT { page: \"index.html\", status: \"inserted\", value: 1 } \n",
        "    UPDATE { status: \"updated\" }\n",
        "IN Websites\n",
        "```\n",
        "\n",
        "The statement comes with three parts:\n",
        "* UPSERT specifying the search criteria\n",
        "* INSERT specifying the complete doc which should be inserted if target doc not present\n",
        "* UPDATE specifying the fields which should be updated in case the target doc is already present"
      ]
    },
    {
      "cell_type": "markdown",
      "metadata": {
        "id": "RiM95ot6DKLh"
      },
      "source": [
        "`UPDATE` only adds/modifies the specified document attributes in the existing document.\n",
        "Instead of an `UPDATE` part one can also specify a `REPLACE` part, specifying the full document that is used as a replacement."
      ]
    },
    {
      "cell_type": "code",
      "metadata": {
        "id": "uknf74BoDKLh"
      },
      "source": [
        "upsert_replace_query = \"\"\"\n",
        "UPSERT { page: \"index.html\" }\n",
        "    INSERT { page: \"index.html\", status: \"inserted\", value: 1 } \n",
        "    REPLACE { page: \"index.html\", status: \"replaced\", value: 1 } \n",
        "IN Websites\n",
        "\"\"\"\n",
        "\n",
        "db.AQLQuery(upsert_replace_query)\n",
        "\n",
        "print_all()"
      ],
      "execution_count": null,
      "outputs": []
    },
    {
      "cell_type": "markdown",
      "metadata": {
        "id": "a60SFO54DKLj"
      },
      "source": [
        "Now we should be seeing `'status': 'replaced'`."
      ]
    },
    {
      "cell_type": "markdown",
      "metadata": {
        "id": "eJysEf8-DKLj"
      },
      "source": [
        "We can also leverage the existing attribute values using the pseudovariable OLD."
      ]
    },
    {
      "cell_type": "code",
      "metadata": {
        "id": "YhlwxTwKDKLj"
      },
      "source": [
        "upsert_old_query = \"\"\"\n",
        "UPSERT { page: \"index.html\" }\n",
        "    INSERT { page: \"index.html\", status: \"inserted\", value: 1 } \n",
        "    UPDATE { page: \"index.html\", status: \"updated\", prev_status: OLD.status, value: OLD.value + 1 } \n",
        "IN Websites\n",
        "\"\"\"\n",
        "\n",
        "db.AQLQuery(upsert_old_query)\n",
        "\n",
        "print_all()"
      ],
      "execution_count": null,
      "outputs": []
    },
    {
      "cell_type": "markdown",
      "metadata": {
        "id": "xIlq9-_ZDKLm"
      },
      "source": [
        "This should return `'status': 'updated', 'prev_status': 'replaced'`"
      ]
    },
    {
      "cell_type": "markdown",
      "metadata": {
        "id": "qAQxYniwDKLm"
      },
      "source": [
        "## UPSERT Performance and Caveats"
      ]
    },
    {
      "cell_type": "markdown",
      "metadata": {
        "id": "USHPLXRJDKLm"
      },
      "source": [
        "The lookup attribute(s) from the search expression should be indexed in order to improve UPSERT performance\n",
        "Ideally, the search expression contains the shard key, as this allows the lookup to be restricted to a single shard"
      ]
    },
    {
      "cell_type": "markdown",
      "metadata": {
        "id": "Rty1RU3bDKLn"
      },
      "source": [
        "The lookup and the insert/update/replace parts are executed non- atomically.\n",
        "That means if multiple UPSERT queries run concurrently, they may all determine that the target document does not exist and then create it multiple times!!"
      ]
    },
    {
      "cell_type": "markdown",
      "metadata": {
        "id": "vkEk3JG-DKLn"
      },
      "source": [
        "Note that due to the non-atomicity of the lookup and insert/update/replace, even with a unique index there may be duplicate key errors or conflicts.\n",
        "But if they occur, the application/client code can execute the same query again\n",
        "\n",
        "To prevent this from happening, one should a unique index to the lookup attribute(s). Note that in the cluster a unique index can only be created if it is equal to the shard key attribute of the collection or at least contains it as a part."
      ]
    },
    {
      "cell_type": "markdown",
      "metadata": {
        "id": "7MfsiyYtDKLn"
      },
      "source": [
        "An alternative to making an UPSERT statement work atomically is\n",
        "to use the `exclusive` option to limit write concurrency for this collection to 1, which helps avoiding conflicts but is bad for throughput!\n"
      ]
    },
    {
      "cell_type": "code",
      "metadata": {
        "id": "76DrtpzGDKLo"
      },
      "source": [
        "upsert_exclusive_query = \"\"\"\n",
        "UPSERT { page: \"index.html\" }\n",
        "    INSERT { page: \"index.html\", status: \"inserted\", value: 1 } \n",
        "    UPDATE { page: \"index.html\", status: \"updated\", prev_status: OLD.status, value: OLD.value + 1 } \n",
        "IN Websites\n",
        "OPTIONS { exclusive: true }\n",
        "\"\"\"\n",
        "\n",
        "db.AQLQuery(upsert_exclusive_query)\n",
        "\n",
        "print_all()"
      ],
      "execution_count": null,
      "outputs": []
    },
    {
      "cell_type": "markdown",
      "metadata": {
        "id": "bQfR0rJyDKLp"
      },
      "source": [
        "## REPSERT"
      ]
    },
    {
      "cell_type": "markdown",
      "metadata": {
        "id": "-4L61DkzDKLq"
      },
      "source": [
        "An alternative to UPSERT is to use a REPSERT, which is a special extension for the INSERT command\n",
        "It completely replaces a document, identified by _key, in case it already exists. Note, running the query for the first time will create a second document it has a new _key. Feel free to change the value and rerun!"
      ]
    },
    {
      "cell_type": "code",
      "metadata": {
        "id": "W1_HvuM9DKLq"
      },
      "source": [
        "repsert_query = \"\"\"\n",
        "INSERT { _key: \"index.html\", value: 1 }\n",
        "IN Websites\n",
        "OPTIONS { overwrite: true }\n",
        "\"\"\"\n",
        "\n",
        "db.AQLQuery(repsert_query)\n",
        "\n",
        "print_all()"
      ],
      "execution_count": null,
      "outputs": []
    },
    {
      "cell_type": "markdown",
      "metadata": {
        "id": "Os8qUK1LDKLs"
      },
      "source": [
        "REPSERT is an atomic operation so it fixes both the atomicity/concurrency problem that exists with UPSERT.\n",
        "REPSERT is restricted to _key lookups and is thus very fast.\n",
        "\n",
        "A unique index on _key is always present, so REPSERT doesn't require setting up additional indexes."
      ]
    },
    {
      "cell_type": "markdown",
      "metadata": {
        "id": "m2fgRmazDKLs"
      },
      "source": [
        "REPSERTs can only be used when the `_key` attribute value is known or can be created in an unambiguous fashion by the application.\n",
        "\n",
        "Values for `_key` values have some character and length restrictions, but alphanumeric keys work well.\n",
        "The underlying collection must be sharded by `_key`."
      ]
    },
    {
      "cell_type": "markdown",
      "metadata": {
        "id": "wb_MTe1uDKLt"
      },
      "source": [
        "## Overwrite Modes"
      ]
    },
    {
      "cell_type": "markdown",
      "metadata": {
        "id": "bz5M-GXHDKLt"
      },
      "source": [
        "To further control the behavior of INSERT on primary index unique constraint violations, `overwriteMode` can be specified as follows:\n",
        "\n",
        "* *replace*: full replacement of document\n",
        "* *ignore*: if a document with the specified _key value exists already, nothing will be done and no write operation will be carried out. The insert operation will return success in this case. \n",
        "* *update*: if a document with the specified _key value exists already, it will be patched (partially updated) with the specified document values.\n",
        "* *conflict*: if a document with the specified _key value exists already, return a unique constraint violation error so that the insert operation fails. This is also the default behavior in case the overwrite mode is not set, and the overwrite flag is false or not set either.\n",
        "\n",
        "*Note*: The `overwriteMode` option is only available from 3.7 upwards."
      ]
    },
    {
      "cell_type": "code",
      "metadata": {
        "id": "Wl16oR1wDKLt"
      },
      "source": [
        "repsert_ignore_query = \"\"\"\n",
        "INSERT { _key: \"index.html\", value: 1 }\n",
        "IN Websites\n",
        "OPTIONS { overwriteMode: \"ignore\" }\n",
        "\"\"\"\n",
        "\n",
        "db.AQLQuery(repsert_ignore_query)\n",
        "\n",
        "print_all()"
      ],
      "execution_count": null,
      "outputs": []
    },
    {
      "cell_type": "markdown",
      "metadata": {
        "id": "B0z4oWUJDKLv"
      },
      "source": [
        "## Tradeoffs"
      ]
    },
    {
      "cell_type": "markdown",
      "metadata": {
        "id": "S-aMecdkDKLw"
      },
      "source": [
        "**UPSERT**\n",
        "\n",
        "   \\+ documents can be identified by any field (not just _key)\n",
        "\n",
        "− performance implications when using a non-indexed attributes for lookup and hence might require an addtional index\n",
        "\n",
        "**REPSERT**\n",
        "\n",
        "   \\+ as documents have to be identified by _key, there is already a primary index guaranteeing performance and uniqueness\n",
        "\n",
        "− documents have to be identified by _key\n",
        "\n",
        "− cannot refer to OLD document version"
      ]
    },
    {
      "cell_type": "markdown",
      "metadata": {
        "id": "rPX2Mt8YDKLw"
      },
      "source": [
        "## Cleanup"
      ]
    },
    {
      "cell_type": "code",
      "metadata": {
        "id": "aoRnoNsODKLx"
      },
      "source": [
        "### Delete collections\n",
        "db.dropAllCollections() \n",
        "db.reload()"
      ],
      "execution_count": null,
      "outputs": []
    },
    {
      "cell_type": "markdown",
      "metadata": {
        "id": "xbP2AEl0bLrh"
      },
      "source": [
        "Please, keep in mind that the database used in this example is temporary and will be automatically deleted. If you would like to have a permanent deployment with ArangoDB Oasis, [sign up for free](https://cloud.arangodb.com/home)!\n",
        "\n",
        "If you would like to continue exploring ArangoDB and all of the new features of 3.7, you can [download the beta here](https://www.arangodb.com/download-technical-preview/)."
      ]
    }
  ]
}