{
 "cells": [
  {
   "cell_type": "markdown",
   "metadata": {},
   "source": [
    "![arangodb](https://github.com/joerg84/ArangoDBUniversity/raw/master/img/ArangoDB_logo.png)"
   ]
  },
  {
   "cell_type": "markdown",
   "metadata": {},
   "source": [
    "# Insert, Replace, Upsert"
   ]
  },
  {
   "cell_type": "markdown",
   "metadata": {},
   "source": [
    "<a href=\"https://colab.research.google.com/github/joerg84/ArangoDBUniversity/blob/master/Upsert.ipynb\" target=\"_parent\"><img src=\"https://colab.research.google.com/assets/colab-badge.svg\" alt=\"Open In Colab\"/></a>"
   ]
  },
  {
   "cell_type": "markdown",
   "metadata": {},
   "source": [
    "With a database one sometimes wants to insert data which might be stored already. Instead of re-inserting the data again in case it is already present, we would like to update it.\n",
    "In this tutorial we want to take a look at the different options to achieve this with ArangoDB."
   ]
  },
  {
   "cell_type": "code",
   "execution_count": null,
   "metadata": {},
   "outputs": [],
   "source": [
    "%%capture\n",
    "!git clone https://github.com/joerg84/ArangoDBUniversity.git\n",
    "!rsync -av ArangoDBUniversity/ ./ --exclude=.git\n",
    "!pip3 install pyarango\n",
    "!pip3 install \"python-arango>=5.0\""
   ]
  },
  {
   "cell_type": "code",
   "execution_count": 1,
   "metadata": {},
   "outputs": [],
   "source": [
    "import json\n",
    "import requests\n",
    "import sys\n",
    "import oasis\n",
    "import time\n",
    "\n",
    "from pyArango.connection import *\n",
    "from pyArango.collection import Collection, Edges, Field\n",
    "from pyArango.collection import BulkOperation as BulkOperation"
   ]
  },
  {
   "cell_type": "markdown",
   "metadata": {},
   "source": [
    "First, create a temporary database:"
   ]
  },
  {
   "cell_type": "code",
   "execution_count": 2,
   "metadata": {},
   "outputs": [
    {
     "name": "stdout",
     "output_type": "stream",
     "text": [
      "Reusing cached credentials.\n"
     ]
    }
   ],
   "source": [
    "## Retrieve tmp credentials from ArangoDB Tutorial Service\n",
    "login = oasis.getTempCredentials()\n",
    "\n",
    "## Connect to the temp database\n",
    "conn = oasis.connect(login)\n",
    "db = conn[login[\"dbName\"]] "
   ]
  },
  {
   "cell_type": "code",
   "execution_count": 3,
   "metadata": {
    "collapsed": true,
    "jupyter": {
     "outputs_hidden": true
    }
   },
   "outputs": [
    {
     "name": "stdout",
     "output_type": "stream",
     "text": [
      "https://5904e8d8a65f.arangodb.cloud:8529\n",
      "Username: TUTlxy3x608tkyikyvhu6cn\n",
      "Password: TUTn7oiaq8x6ddbosk36bp6\n",
      "Database: TUT2th9fmifgx7mr52rjwygk8\n"
     ]
    }
   ],
   "source": [
    "print(\"https://{}:{}\".format(login[\"hostname\"], login[\"port\"]))\n",
    "print(\"Username: \" + login[\"username\"])\n",
    "print(\"Password: \" + login[\"password\"])\n",
    "print(\"Database: \" + login[\"dbName\"])"
   ]
  },
  {
   "cell_type": "markdown",
   "metadata": {},
   "source": [
    "## UPSERT"
   ]
  },
  {
   "cell_type": "markdown",
   "metadata": {},
   "source": [
    "Let us create a sample collection and convenience print function: "
   ]
  },
  {
   "cell_type": "code",
   "execution_count": 4,
   "metadata": {},
   "outputs": [],
   "source": [
    "db.createCollection(name=\"Websites\")\n",
    "\n",
    "all_query = \"\"\"\n",
    "FOR doc in Websites\n",
    "RETURN doc\n",
    "\"\"\"\n",
    "\n",
    "def print_all():\n",
    "    query_result = db.AQLQuery(all_query, rawResults=True)\n",
    "    for doc in query_result:\n",
    "        print(doc)\n",
    "        print()\n",
    "        \n",
    "print_all()"
   ]
  },
  {
   "cell_type": "markdown",
   "metadata": {},
   "source": [
    "Let us define and run an UPSERT query for the first time."
   ]
  },
  {
   "cell_type": "code",
   "execution_count": 5,
   "metadata": {},
   "outputs": [
    {
     "name": "stdout",
     "output_type": "stream",
     "text": [
      "{'_key': '266201065472', '_id': 'Websites/266201065472', '_rev': '_aiz2CaK---', 'page': 'index.html', 'status': 'inserted', 'value': 1}\n",
      "\n"
     ]
    }
   ],
   "source": [
    "upsert_query = \"\"\"\n",
    "UPSERT { page: \"index.html\" }\n",
    "    INSERT { page: \"index.html\", status: \"inserted\", value: 1 } \n",
    "    UPDATE { status: \"updated\" }\n",
    "IN Websites\n",
    "\"\"\"\n",
    "\n",
    "db.AQLQuery(upsert_query)\n",
    "\n",
    "print_all()"
   ]
  },
  {
   "cell_type": "markdown",
   "metadata": {},
   "source": [
    "When running the query for the first time we should see `'status': 'inserted'`\n",
    "Let us run the same query again:"
   ]
  },
  {
   "cell_type": "code",
   "execution_count": 6,
   "metadata": {},
   "outputs": [
    {
     "name": "stdout",
     "output_type": "stream",
     "text": [
      "{'_key': '266201065472', '_id': 'Websites/266201065472', '_rev': '_aiz2Day---', 'page': 'index.html', 'status': 'updated', 'value': 1}\n",
      "\n"
     ]
    }
   ],
   "source": [
    "db.AQLQuery(upsert_query)\n",
    "\n",
    "print_all()"
   ]
  },
  {
   "cell_type": "markdown",
   "metadata": {},
   "source": [
    "This time we should see `'status': 'updated'` but all the other fields unchanged."
   ]
  },
  {
   "cell_type": "markdown",
   "metadata": {},
   "source": [
    "Let us examine the UPSERT statement a bit further:\n",
    "\n",
    "```\n",
    "UPSERT { page: \"index.html\" }\n",
    "    INSERT { page: \"index.html\", status: \"inserted\", value: 1 } \n",
    "    UPDATE { status: \"updated\" }\n",
    "IN Websites\n",
    "```\n",
    "\n",
    "The statement comes with three parts:\n",
    "* UPSERT specifying the search criteria\n",
    "* INSERT specifying the complete doc which should be inserted if target doc not present\n",
    "* UPDATE specifying the fields which should be updated in case the target doc is already present"
   ]
  },
  {
   "cell_type": "markdown",
   "metadata": {},
   "source": [
    "`UPDATE` only adds/modifies the specified document attributes in the existing document.\n",
    "Instead of an `UPDATE` part one can also specify a `REPLACE` part, specifying the full document that is used as a replacement."
   ]
  },
  {
   "cell_type": "code",
   "execution_count": 7,
   "metadata": {},
   "outputs": [
    {
     "name": "stdout",
     "output_type": "stream",
     "text": [
      "{'_key': '266201065472', '_id': 'Websites/266201065472', '_rev': '_aiz2GuK---', 'page': 'index.html', 'status': 'replaced', 'value': 1}\n",
      "\n"
     ]
    }
   ],
   "source": [
    "upsert_replace_query = \"\"\"\n",
    "UPSERT { page: \"index.html\" }\n",
    "    INSERT { page: \"index.html\", status: \"inserted\", value: 1 } \n",
    "    REPLACE { page: \"index.html\", status: \"replaced\", value: 1 } \n",
    "IN Websites\n",
    "\"\"\"\n",
    "\n",
    "db.AQLQuery(upsert_replace_query)\n",
    "\n",
    "print_all()"
   ]
  },
  {
   "cell_type": "markdown",
   "metadata": {},
   "source": [
    "Now we should be seeing `'status': 'replaced'`."
   ]
  },
  {
   "cell_type": "markdown",
   "metadata": {},
   "source": [
    "We can also leverage the existing attribute values using the pseudovariable OLD."
   ]
  },
  {
   "cell_type": "code",
   "execution_count": null,
   "metadata": {},
   "outputs": [],
   "source": [
    "upsert_old_query = \"\"\"\n",
    "UPSERT { page: \"index.html\" }\n",
    "    INSERT { page: \"index.html\", status: \"inserted\", value: 1 } \n",
    "    UPDATE { page: \"index.html\", status: \"updated\", prev_status: OLD.status, value: OLD.value + 1 } \n",
    "IN Websites\n",
    "\"\"\"\n",
    "\n",
    "db.AQLQuery(upsert_old_query)\n",
    "\n",
    "print_all()"
   ]
  },
  {
   "cell_type": "markdown",
   "metadata": {},
   "source": [
    "This should return `'status': 'updated', 'prev_status': 'replaced'`"
   ]
  },
  {
   "cell_type": "markdown",
   "metadata": {},
   "source": [
    "## UPSERT Performance and Caveats"
   ]
  },
  {
   "cell_type": "markdown",
   "metadata": {},
   "source": [
    "The lookup attribute(s) from the search expression should be indexed in order to improve UPSERT performance\n",
    "Ideally, the search expression contains the shard key, as this allows the lookup to be restricted to a single shard"
   ]
  },
  {
   "cell_type": "markdown",
   "metadata": {},
   "source": [
    "The lookup and the insert/update/replace parts are executed non- atomically.\n",
    "That means if multiple UPSERT queries run concurrently, they may all determine that the target document does not exist and then create it multiple times!!"
   ]
  },
  {
   "cell_type": "markdown",
   "metadata": {},
   "source": [
    "Note that due to the non-atomicity of the lookup and insert/update/replace, even with a unique index there may be duplicate key errors or conflicts.\n",
    "But if they occur, the application/client code can execute the same query again\n",
    "\n",
    "To prevent this from happening, one should a unique index to the lookup attribute(s). Note that in the cluster a unique index can only be created if it is equal to the shard key attribute of the collection or at least contains it as a part."
   ]
  },
  {
   "cell_type": "markdown",
   "metadata": {},
   "source": [
    "An alternative to making an UPSERT statement work atomically is\n",
    "to use the `exclusive` option to limit write concurrency for this collection to 1, which helps avoiding conflicts but is bad for throughput!\n"
   ]
  },
  {
   "cell_type": "code",
   "execution_count": 8,
   "metadata": {},
   "outputs": [
    {
     "name": "stdout",
     "output_type": "stream",
     "text": [
      "{'_key': '266201065472', '_id': 'Websites/266201065472', '_rev': '_aiz2Kh6---', 'page': 'index.html', 'status': 'updated', 'value': 2, 'prev_status': 'replaced'}\n",
      "\n"
     ]
    }
   ],
   "source": [
    "upsert_exclusive_query = \"\"\"\n",
    "UPSERT { page: \"index.html\" }\n",
    "    INSERT { page: \"index.html\", status: \"inserted\", value: 1 } \n",
    "    UPDATE { page: \"index.html\", status: \"updated\", prev_status: OLD.status, value: OLD.value + 1 } \n",
    "IN Websites\n",
    "OPTIONS { exclusive: true }\n",
    "\"\"\"\n",
    "\n",
    "db.AQLQuery(upsert_exclusive_query)\n",
    "\n",
    "print_all()"
   ]
  },
  {
   "cell_type": "markdown",
   "metadata": {},
   "source": [
    "## REPSERT"
   ]
  },
  {
   "cell_type": "markdown",
   "metadata": {},
   "source": [
    "An alternative to UPSERT is to use a REPSERT, which is a special extension for the INSERT command\n",
    "It completely replaces a document, identified by _key, in case it already exists. Note, running the query for the first time will create a second document it has a new _key. Feel free to change the value and rerun!"
   ]
  },
  {
   "cell_type": "code",
   "execution_count": 9,
   "metadata": {},
   "outputs": [
    {
     "name": "stdout",
     "output_type": "stream",
     "text": [
      "{'_key': '266201065472', '_id': 'Websites/266201065472', '_rev': '_aiz2Kh6---', 'page': 'index.html', 'status': 'updated', 'value': 2, 'prev_status': 'replaced'}\n",
      "\n",
      "{'_key': 'index.html', '_id': 'Websites/index.html', '_rev': '_aiz2Mt2--A', 'value': 1}\n",
      "\n"
     ]
    }
   ],
   "source": [
    "repsert_query = \"\"\"\n",
    "INSERT { _key: \"index.html\", value: 1 }\n",
    "IN Websites\n",
    "OPTIONS { overwrite: true }\n",
    "\"\"\"\n",
    "\n",
    "db.AQLQuery(repsert_query)\n",
    "\n",
    "print_all()"
   ]
  },
  {
   "cell_type": "markdown",
   "metadata": {},
   "source": [
    "REPSERT is an atomic operation so it fixes both the atomicity/concurrency problem that exists with UPSERT.\n",
    "REPSERT is restricted to _key lookups and is thus very fast.\n",
    "\n",
    "A unique index on _key is always present, so REPSERT doesn't require setting up additional indexes."
   ]
  },
  {
   "cell_type": "markdown",
   "metadata": {},
   "source": [
    "REPSERTs can only be used when the `_key` attribute value is known or can be created in an unambiguous fashion by the application.\n",
    "\n",
    "Values for `_key` values have some character and length restrictions, but alphanumeric keys work well.\n",
    "The underlying collection must be sharded by `_key`."
   ]
  },
  {
   "cell_type": "markdown",
   "metadata": {},
   "source": [
    "## Overwrite Modes"
   ]
  },
  {
   "cell_type": "markdown",
   "metadata": {},
   "source": [
    "To further control the behavior of INSERT on primary index unique constraint violations, `overwriteMode` can be specified as follows:\n",
    "\n",
    "* *replace*: full replacement of document\n",
    "* *ignore*: if a document with the specified _key value exists already, nothing will be done and no write operation will be carried out. The insert operation will return success in this case. \n",
    "* *update*: if a document with the specified _key value exists already, it will be patched (partially updated) with the specified document value.\n",
    "* *conflict*: if a document with the specified _key value exists already, return a unique constraint violation error so that the insert operation fails. This is also the default behavior in case the overwrite mode is not set, and the overwrite flag is false or not set either.\n",
    "\n",
    "*Note*: The `overwriteMode` option is only available from 3.7 upwards."
   ]
  },
  {
   "cell_type": "code",
   "execution_count": 11,
   "metadata": {},
   "outputs": [
    {
     "name": "stdout",
     "output_type": "stream",
     "text": [
      "{'_key': '266201065472', '_id': 'Websites/266201065472', '_rev': '_aiz2Kh6---', 'page': 'index.html', 'status': 'updated', 'value': 2, 'prev_status': 'replaced'}\n",
      "\n",
      "{'_key': 'index.html', '_id': 'Websites/index.html', '_rev': '_aiz2uD---A', 'value': 1}\n",
      "\n"
     ]
    }
   ],
   "source": [
    "repsert_ignore_query = \"\"\"\n",
    "INSERT { _key: \"index.html\", value: 1 }\n",
    "IN Websites\n",
    "OPTIONS { overwriteMode: \"ignore\" }\n",
    "\"\"\"\n",
    "\n",
    "db.AQLQuery(repsert_query)\n",
    "\n",
    "print_all()"
   ]
  },
  {
   "cell_type": "markdown",
   "metadata": {},
   "source": [
    "## Tradeoffs"
   ]
  },
  {
   "cell_type": "markdown",
   "metadata": {},
   "source": [
    "**UPSERT**\n",
    "\n",
    "   \\+ documents can be identified by any field (not just _key)\n",
    "\n",
    "− performance implications when using a non-indexed attributes for lookup and hence might require an addtional index\n",
    "\n",
    "**REPSERT**\n",
    "\n",
    "   \\+ as documents have to be identified by _key, there is already a primary index guaranteeing performance and uniqueness\n",
    "\n",
    "− documents have to be identified by _key\n",
    "\n",
    "− cannot refer to OLD document version"
   ]
  },
  {
   "cell_type": "markdown",
   "metadata": {},
   "source": [
    "## Cleanup"
   ]
  },
  {
   "cell_type": "code",
   "execution_count": null,
   "metadata": {},
   "outputs": [],
   "source": [
    "### Delete collections\n",
    "db.dropAllCollections() \n",
    "db.reload()"
   ]
  }
 ],
 "metadata": {
  "kernelspec": {
   "display_name": "Python 3",
   "language": "python",
   "name": "python3"
  },
  "language_info": {
   "codemirror_mode": {
    "name": "ipython",
    "version": 3
   },
   "file_extension": ".py",
   "mimetype": "text/x-python",
   "name": "python",
   "nbconvert_exporter": "python",
   "pygments_lexer": "ipython3",
   "version": "3.7.7"
  }
 },
 "nbformat": 4,
 "nbformat_minor": 4
}
