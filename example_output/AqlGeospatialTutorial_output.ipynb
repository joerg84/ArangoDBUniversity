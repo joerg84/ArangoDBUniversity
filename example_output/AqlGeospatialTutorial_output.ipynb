{
  "nbformat": 4,
  "nbformat_minor": 0,
  "metadata": {
    "kernelspec": {
      "display_name": "Python 3",
      "language": "python",
      "name": "python3"
    },
    "language_info": {
      "codemirror_mode": {
        "name": "ipython",
        "version": 3
      },
      "file_extension": ".py",
      "mimetype": "text/x-python",
      "name": "python",
      "nbconvert_exporter": "python",
      "pygments_lexer": "ipython3",
      "version": "3.7.7"
    },
    "colab": {
      "name": "AqlGeospatialTutorial.ipynb",
      "provenance": []
    }
  },
  "cells": [
    {
      "cell_type": "markdown",
      "metadata": {
        "id": "G1pVMp7pkXm3",
        "colab_type": "text"
      },
      "source": [
        "![arangodb](https://github.com/joerg84/ArangoDBUniversity/blob/master/img/ArangoDB_logo.png?raw=1)"
      ]
    },
    {
      "cell_type": "markdown",
      "metadata": {
        "id": "XMPJWbHTkXm4",
        "colab_type": "text"
      },
      "source": [
        "# AQL Geospatial Tutorial"
      ]
    },
    {
      "cell_type": "markdown",
      "metadata": {
        "id": "aDkYZkwPkXm5",
        "colab_type": "text"
      },
      "source": [
        "<a href=\"https://colab.research.google.com/github/joerg84/ArangoDBUniversity/blob/master/AqlGeospatialTutorial.ipynb\" target=\"_parent\"><img src=\"https://colab.research.google.com/assets/colab-badge.svg\" alt=\"Open In Colab\"/></a>"
      ]
    },
    {
      "cell_type": "markdown",
      "metadata": {
        "id": "GsHJOSSCkXm5",
        "colab_type": "text"
      },
      "source": [
        "In the previous parts of this AQL tutorial series, we have already covered a number of topics:\n",
        "* [Part 1: CRUD](https://colab.research.google.com/github/joerg84/ArangoDBUniversity/blob/master/AqlCrudTutorial.ipynb) \n",
        "* [Part 2: Limit, Sort, Filter](https://colab.research.google.com/github/joerg84/ArangoDBUniversity/blob/master/AqlPart2Tutorial.ipynb)\n",
        "* [Part 3: Join](https://colab.research.google.com/github/joerg84/ArangoDBUniversity/blob/master/AqlJoinTutorial.ipynb)\n",
        "* [Part 3: Graph Traversals](https://colab.research.google.com/github/joerg84/ArangoDBUniversity/blob/master/AqlTraversalTutorial.ipynb)\n",
        "\n",
        "In this part we learn how AQL supports geospatial queries.\n",
        "Geospatial coordinates consisting of a latitude and longitude value can be stored either as two separate attributes, or as a single attribute in the form of an array with both numeric values. ArangoDB can index such coordinates for fast geospatial queries.\n",
        "\n",
        "Recall, that in addition to the python interface, you can interact with ArangoDB using its web interface to manage collections and execute the queries."
      ]
    },
    {
      "cell_type": "markdown",
      "metadata": {
        "id": "y3gewY2TkXm5",
        "colab_type": "text"
      },
      "source": [
        "# Setup "
      ]
    },
    {
      "cell_type": "markdown",
      "metadata": {
        "id": "0Xc7narVkXm6",
        "colab_type": "text"
      },
      "source": [
        "Before getting started with ArangoDB we need to prepare our environment and create a temporary database on ArangoDB's managed Service Oasis."
      ]
    },
    {
      "cell_type": "code",
      "metadata": {
        "id": "lJVMS_VykXm6",
        "colab_type": "code",
        "colab": {}
      },
      "source": [
        "%%capture\n",
        "!git clone https://github.com/joerg84/ArangoDBUniversity.git\n",
        "!rsync -av ArangoDBUniversity/ ./ --exclude=.git\n",
        "!pip3 install pyarango\n",
        "!pip3 install \"python-arango>=5.0\""
      ],
      "execution_count": 0,
      "outputs": []
    },
    {
      "cell_type": "code",
      "metadata": {
        "id": "x3NzUXqakXm9",
        "colab_type": "code",
        "colab": {}
      },
      "source": [
        "import json\n",
        "import requests\n",
        "import sys\n",
        "import oasis\n",
        "import time\n",
        "\n",
        "from pyArango.connection import *\n",
        "from arango import ArangoClient"
      ],
      "execution_count": 0,
      "outputs": []
    },
    {
      "cell_type": "markdown",
      "metadata": {
        "id": "Lby-TGZXkXm_",
        "colab_type": "text"
      },
      "source": [
        "Create the temporary database:"
      ]
    },
    {
      "cell_type": "code",
      "metadata": {
        "id": "TsT_br1fkXm_",
        "colab_type": "code",
        "colab": {
          "base_uri": "https://localhost:8080/",
          "height": 51
        },
        "outputId": "6e5191fb-3354-473c-9da0-bea099ea129d"
      },
      "source": [
        "# Retrieve tmp credentials from ArangoDB Tutorial Service\n",
        "login = oasis.getTempCredentials(tutorialName=\"AQLGeoSpatial\", credentialProvider='https://tutorials.arangodb.cloud:8529/_db/_system/tutorialDB/tutorialDB')\n",
        "\n",
        "# Connect to the temp database\n",
        "conn = oasis.connect(login)\n",
        "db = conn[login[\"dbName\"]] "
      ],
      "execution_count": 6,
      "outputs": [
        {
          "output_type": "stream",
          "text": [
            "Requesting new temp credentials.\n",
            "Temp database ready to use.\n"
          ],
          "name": "stdout"
        }
      ]
    },
    {
      "cell_type": "code",
      "metadata": {
        "id": "8HLUZq-DkXnB",
        "colab_type": "code",
        "colab": {
          "base_uri": "https://localhost:8080/",
          "height": 85
        },
        "outputId": "88286d23-78bc-4724-ec23-6df51e338ed7"
      },
      "source": [
        "print(\"https://{}:{}\".format(login[\"hostname\"], login[\"port\"]))\n",
        "print(\"Username: \" + login[\"username\"])\n",
        "print(\"Password: \" + login[\"password\"])\n",
        "print(\"Database: \" + login[\"dbName\"])"
      ],
      "execution_count": 7,
      "outputs": [
        {
          "output_type": "stream",
          "text": [
            "https://tutorials.arangodb.cloud:8529\n",
            "Username: TUTmdxdiz8dt8kqgmur8we81n\n",
            "Password: TUT8m9cc75nu08bko6mj89sum\n",
            "Database: TUTjfhw6szvz0hg1sprwe0ayw\n"
          ],
          "name": "stdout"
        }
      ]
    },
    {
      "cell_type": "markdown",
      "metadata": {
        "id": "p8Xe7pSfkXnD",
        "colab_type": "text"
      },
      "source": [
        "Feel free to use to above URL to checkout the UI!"
      ]
    },
    {
      "cell_type": "markdown",
      "metadata": {
        "id": "3mO53PGkkXnD",
        "colab_type": "text"
      },
      "source": [
        "##  Locations Data"
      ]
    },
    {
      "cell_type": "markdown",
      "metadata": {
        "id": "29EcAs9gkXnD",
        "colab_type": "text"
      },
      "source": [
        "Let us create a collection with some filming locations for Games of Thrones."
      ]
    },
    {
      "cell_type": "markdown",
      "metadata": {
        "id": "rnsY2NuCkXnE",
        "colab_type": "text"
      },
      "source": [
        "![locations](https://github.com/joerg84/ArangoDBUniversity/blob/master/img/Locations_Map.png?raw=1)"
      ]
    },
    {
      "cell_type": "code",
      "metadata": {
        "id": "2fsg5ZASkXnE",
        "colab_type": "code",
        "colab": {
          "base_uri": "https://localhost:8080/",
          "height": 34
        },
        "outputId": "ca3b6df4-851d-4426-8853-7b7c5455e488"
      },
      "source": [
        "# Create the Locaions Collection \n",
        "db.createCollection(name=\"Locations\")"
      ],
      "execution_count": 8,
      "outputs": [
        {
          "output_type": "execute_result",
          "data": {
            "text/plain": [
              "ArangoDB collection name: Locations, id: 18020733, type: document, status: loaded"
            ]
          },
          "metadata": {
            "tags": []
          },
          "execution_count": 8
        }
      ]
    },
    {
      "cell_type": "code",
      "metadata": {
        "id": "o5gXZYvBkXnG",
        "colab_type": "code",
        "colab": {
          "base_uri": "https://localhost:8080/",
          "height": 34
        },
        "outputId": "16e14d1c-681a-4359-d994-52fbd9019e90"
      },
      "source": [
        "insert_query = \"\"\"\n",
        "LET places = [\n",
        "    { \"name\": \"Dragonstone\", \"coordinate\": [ 55.167801, -6.815096 ] },\n",
        "    { \"name\": \"King's Landing\", \"coordinate\": [ 42.639752, 18.110189 ] },\n",
        "    { \"name\": \"The Red Keep\", \"coordinate\": [ 35.896447, 14.446442 ] },\n",
        "    { \"name\": \"Yunkai\", \"coordinate\": [ 31.046642, -7.129532 ] },\n",
        "    { \"name\": \"Astapor\", \"coordinate\": [ 31.50974, -9.774249 ] },\n",
        "    { \"name\": \"Winterfell\", \"coordinate\": [ 54.368321, -5.581312 ] },\n",
        "    { \"name\": \"Vaes Dothrak\", \"coordinate\": [ 54.16776, -6.096125 ] },\n",
        "    { \"name\": \"Beyond the wall\", \"coordinate\": [ 64.265473, -21.094093 ] }\n",
        "]\n",
        "\n",
        "\n",
        "FOR place IN places\n",
        "    INSERT place INTO Locations\n",
        "\"\"\"\n",
        "\n",
        "db.AQLQuery(insert_query)"
      ],
      "execution_count": 9,
      "outputs": [
        {
          "output_type": "execute_result",
          "data": {
            "text/plain": [
              "<pyArango.query.AQLQuery at 0x7f7cdf5d5780>"
            ]
          },
          "metadata": {
            "tags": []
          },
          "execution_count": 9
        }
      ]
    },
    {
      "cell_type": "markdown",
      "metadata": {
        "id": "B5r1GNgNkXnI",
        "colab_type": "text"
      },
      "source": [
        "As before let us check the `Locations` collection:"
      ]
    },
    {
      "cell_type": "code",
      "metadata": {
        "id": "oA5kyKNQkXnI",
        "colab_type": "code",
        "colab": {
          "base_uri": "https://localhost:8080/",
          "height": 289
        },
        "outputId": "84edbe09-9dcf-41f1-c12d-39ede5ac71f7"
      },
      "source": [
        "all_locations_names = \"\"\"\n",
        "FOR p IN Locations\n",
        "    RETURN p.name\n",
        "\"\"\"\n",
        "\n",
        "query_result = db.AQLQuery(all_locations_names, rawResults=True)\n",
        "for doc in  query_result:\n",
        "    print(doc)\n",
        "    print()"
      ],
      "execution_count": 10,
      "outputs": [
        {
          "output_type": "stream",
          "text": [
            "Dragonstone\n",
            "\n",
            "King's Landing\n",
            "\n",
            "The Red Keep\n",
            "\n",
            "Yunkai\n",
            "\n",
            "Astapor\n",
            "\n",
            "Winterfell\n",
            "\n",
            "Vaes Dothrak\n",
            "\n",
            "Beyond the wall\n",
            "\n"
          ],
          "name": "stdout"
        }
      ]
    },
    {
      "cell_type": "markdown",
      "metadata": {
        "id": "bQVyo0ZqkXnK",
        "colab_type": "text"
      },
      "source": [
        "# Geospatial Index"
      ]
    },
    {
      "cell_type": "markdown",
      "metadata": {
        "id": "dFiNWm8DkXnK",
        "colab_type": "text"
      },
      "source": [
        "To query based on coordinates, a [geo index](https://www.arangodb.com/docs/stable/indexing-geo.html) is required. It determines which fields contain the latitude and longitude values."
      ]
    },
    {
      "cell_type": "code",
      "metadata": {
        "id": "6v7P0lMhkXnK",
        "colab_type": "code",
        "colab": {
          "base_uri": "https://localhost:8080/",
          "height": 34
        },
        "outputId": "a047b3ff-ed8b-4a26-a446-6652f40d8e1f"
      },
      "source": [
        "db[\"Locations\"].ensureGeoIndex([\"coordinate\"])"
      ],
      "execution_count": 11,
      "outputs": [
        {
          "output_type": "execute_result",
          "data": {
            "text/plain": [
              "<pyArango.index.Index at 0x7f7cdf5a7198>"
            ]
          },
          "metadata": {
            "tags": []
          },
          "execution_count": 11
        }
      ]
    },
    {
      "cell_type": "markdown",
      "metadata": {
        "id": "yAV02LrEkXnM",
        "colab_type": "text"
      },
      "source": [
        "# Find nearby Locations"
      ]
    },
    {
      "cell_type": "markdown",
      "metadata": {
        "id": "BWd7-0ynkXnM",
        "colab_type": "text"
      },
      "source": [
        "A `FOR` loop is used to iterate over the results of a function call to NEAR() to find the n closest coordinates to a reference point, and return the documents with the nearby locations. The default for n is 100, which means 100 documents are returned at most, the closest matches first.\n",
        "\n",
        "In below example, the limit is set to 3. The origin (the reference point) is a coordinate somewhere downtown in Dublin, Ireland:"
      ]
    },
    {
      "cell_type": "code",
      "metadata": {
        "id": "fKwkMhHLkXnN",
        "colab_type": "code",
        "colab": {
          "base_uri": "https://localhost:8080/",
          "height": 119
        },
        "outputId": "a3b239f2-1fff-46b7-c646-1682821ee219"
      },
      "source": [
        "near_locations_names = \"\"\"\n",
        "FOR loc IN NEAR(Locations, 53.35, -6.26, 3)\n",
        "    RETURN {\n",
        "        name: loc.name,\n",
        "        latitude: loc.coordinate[0],\n",
        "        longitude: loc.coordinate[1]\n",
        "    }\n",
        "\"\"\"\n",
        "\n",
        "query_result = db.AQLQuery(near_locations_names, rawResults=True)\n",
        "for doc in  query_result:\n",
        "    print(doc)\n",
        "    print()    "
      ],
      "execution_count": 12,
      "outputs": [
        {
          "output_type": "stream",
          "text": [
            "{'name': 'Vaes Dothrak', 'latitude': 54.16776, 'longitude': -6.096125}\n",
            "\n",
            "{'name': 'Winterfell', 'latitude': 54.368321, 'longitude': -5.581312}\n",
            "\n",
            "{'name': 'Dragonstone', 'latitude': 55.167801, 'longitude': -6.815096}\n",
            "\n"
          ],
          "name": "stdout"
        }
      ]
    },
    {
      "cell_type": "markdown",
      "metadata": {
        "id": "acvsXvtBkXnP",
        "colab_type": "text"
      },
      "source": [
        "The query returns the location name, as well as the coordinate. The coordinate is returned as two separate attributes. You may use a simpler `RETURN loc` instead if you want."
      ]
    },
    {
      "cell_type": "markdown",
      "metadata": {
        "id": "ZsnlbTqVkXnP",
        "colab_type": "text"
      },
      "source": [
        "To create the required edge documents to store these relations in the database, we can run a query that combines joining and filtering to match up the right character documents, then use their `_id` attribute to insert an edge into an edge collection ChildOf."
      ]
    },
    {
      "cell_type": "markdown",
      "metadata": {
        "id": "sONCKhg4kXnR",
        "colab_type": "text"
      },
      "source": [
        "# Find locations within radius\n",
        "\n",
        "Instead of `NEAR()` we can also use `WITHIN()`, to search for locations within a given radius from a reference point. The syntax is the same as for `NEAR()`, except for the fourth parameter, which specifies the radius instead of a limit. The unit for the radius is meters. The example uses a radius of 200,000 meters (200 kilometers):"
      ]
    },
    {
      "cell_type": "code",
      "metadata": {
        "id": "6syI4R0jkXnR",
        "colab_type": "code",
        "colab": {
          "base_uri": "https://localhost:8080/",
          "height": 85
        },
        "outputId": "e41d494a-e591-4aae-a8ae-2b6fa3328f1b"
      },
      "source": [
        "within_locations_names = \"\"\"\n",
        "FOR loc IN WITHIN(Locations, 53.35, -6.26, 200 * 1000)\n",
        "    RETURN {\n",
        "        name: loc.name,\n",
        "        latitude: loc.coordinate[0],\n",
        "        longitude: loc.coordinate[1]\n",
        "    }\n",
        "\"\"\"\n",
        "\n",
        "query_result = db.AQLQuery(within_locations_names, rawResults=True)\n",
        "for doc in  query_result:\n",
        "    print(doc)\n",
        "    print() "
      ],
      "execution_count": 13,
      "outputs": [
        {
          "output_type": "stream",
          "text": [
            "{'name': 'Vaes Dothrak', 'latitude': 54.16776, 'longitude': -6.096125}\n",
            "\n",
            "{'name': 'Winterfell', 'latitude': 54.368321, 'longitude': -5.581312}\n",
            "\n"
          ],
          "name": "stdout"
        }
      ]
    },
    {
      "cell_type": "markdown",
      "metadata": {
        "id": "OzuY6l2DkXnT",
        "colab_type": "text"
      },
      "source": [
        "# Calculating the Distance"
      ]
    },
    {
      "cell_type": "markdown",
      "metadata": {
        "id": "JcoxSxXqkXnT",
        "colab_type": "text"
      },
      "source": [
        "Both `NEAR()` and `WITHIN()` can return the distance to the reference point by adding an optional fifth parameter. It has to be a string, which will be used as attribute name for an additional attribute with the distance in meters:"
      ]
    },
    {
      "cell_type": "code",
      "metadata": {
        "id": "mxvRuUcJkXnU",
        "colab_type": "code",
        "colab": {
          "base_uri": "https://localhost:8080/",
          "height": 119
        },
        "outputId": "8ae3e999-4a8a-4968-82db-a30ef324f97a"
      },
      "source": [
        "near_locations_names = \"\"\"\n",
        "FOR loc IN NEAR(Locations, 53.35, -6.26, 3, \"distance\")\n",
        "    RETURN {\n",
        "        name: loc.name,\n",
        "        latitude: loc.coordinate[0],\n",
        "        longitude: loc.coordinate[1],\n",
        "        distance: loc.distance / 1000\n",
        "    }\n",
        "\"\"\"\n",
        "\n",
        "query_result = db.AQLQuery(near_locations_names, rawResults=True)\n",
        "for doc in  query_result:\n",
        "    print(doc)\n",
        "    print()    \n"
      ],
      "execution_count": 14,
      "outputs": [
        {
          "output_type": "stream",
          "text": [
            "{'name': 'Vaes Dothrak', 'latitude': 54.16776, 'longitude': -6.096125, 'distance': 91.56658640314484}\n",
            "\n",
            "{'name': 'Winterfell', 'latitude': 54.368321, 'longitude': -5.581312, 'distance': 121.66399816395003}\n",
            "\n",
            "{'name': 'Dragonstone', 'latitude': 55.167801, 'longitude': -6.815096, 'distance': 205.31879386198273}\n",
            "\n"
          ],
          "name": "stdout"
        }
      ]
    },
    {
      "cell_type": "markdown",
      "metadata": {
        "id": "5HotkrrHkXnV",
        "colab_type": "text"
      },
      "source": [
        "The extra attribute, here called distance, is returned as part of the loc variable, as if it was part of the location document. The value is divided by 1000 in the example query, to convert the unit to kilometers, simply to make it better readable."
      ]
    },
    {
      "cell_type": "markdown",
      "metadata": {
        "id": "udjvnd8qkXnW",
        "colab_type": "text"
      },
      "source": [
        "# Next Steps"
      ]
    },
    {
      "cell_type": "markdown",
      "metadata": {
        "id": "8nteuZKWkXnW",
        "colab_type": "text"
      },
      "source": [
        "To continue playing and working with ArangoDB beyond the temporary database, you can:\n",
        "\n",
        "* [Get a 2 week free Trial with the ArangoDB Cloud](https://cloud.arangodb.com/home?utm_source=AQLJoin&utm_medium=Github&utm_campaign=ArangoDB%20University)\n",
        "* Take the [free Graph Course](https://www.arangodb.com/arangodb-graph-course)  \n",
        "* [Download ArangoDB](https://www.arangodb.com/download-major/)\n",
        "* Keep Learning at thttps://www.arangodb.com/arangodb-training-center/"
      ]
    },
    {
      "cell_type": "markdown",
      "metadata": {
        "id": "BwflQjUZkXnW",
        "colab_type": "text"
      },
      "source": [
        "# Further Links"
      ]
    },
    {
      "cell_type": "markdown",
      "metadata": {
        "id": "sxlqQ5lzkXnX",
        "colab_type": "text"
      },
      "source": [
        "* https://www.arangodb.com/docs/stable/aql/tutorial.html"
      ]
    }
  ]
}