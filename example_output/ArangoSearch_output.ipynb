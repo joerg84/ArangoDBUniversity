{
  "nbformat": 4,
  "nbformat_minor": 0,
  "metadata": {
    "kernelspec": {
      "display_name": "Python 3.7.5 64-bit ('apenvtest': conda)",
      "language": "python",
      "name": "python37564bitapenvtestconda6e07e4f0c6b54c08b902f0df66b436cf"
    },
    "language_info": {
      "codemirror_mode": {
        "name": "ipython",
        "version": 3
      },
      "file_extension": ".py",
      "mimetype": "text/x-python",
      "name": "python",
      "nbconvert_exporter": "python",
      "pygments_lexer": "ipython3",
      "version": "3.7.5-final"
    },
    "colab": {
      "name": "ArangoSearch.ipynb",
      "provenance": []
    }
  },
  "cells": [
    {
      "cell_type": "markdown",
      "metadata": {
        "id": "VdW7K7jrcv5V",
        "colab_type": "text"
      },
      "source": [
        "![arangodb](https://github.com/joerg84/ArangoDBUniversity/raw/master/img/ArangoDB_logo.png)"
      ]
    },
    {
      "cell_type": "markdown",
      "metadata": {
        "id": "GhMNmFY0cv5W",
        "colab_type": "text"
      },
      "source": [
        "# ArangoSearch"
      ]
    },
    {
      "cell_type": "markdown",
      "metadata": {
        "id": "WcnUqWJxcv5X",
        "colab_type": "text"
      },
      "source": [
        "<a href=\"https://colab.research.google.com/github/joerg84/ArangoDBUniversity/blob/master/ArangoSearch.ipynb\" target=\"_parent\"><img src=\"https://colab.research.google.com/assets/colab-badge.svg\" alt=\"Open In Colab\"/></a>"
      ]
    },
    {
      "cell_type": "markdown",
      "metadata": {
        "id": "aJdxB_pCcv5Y",
        "colab_type": "text"
      },
      "source": [
        "ArangoSearch provides information retrieval features, natively integrated into ArangoDB’s query language and with support for all data models. It is primarily a full-text search engine, a much more powerful alternative to the full-text index type.\n",
        "\n",
        "ArangoSearch introduces the concept of Views which can be seen as virtual collections. Each View represents an inverted index to provide fast full-text searching over one or multiple linked collections and holds the configuration for the search capabilities, such as the attributes to index. It can cover multiple or even all attributes of the documents in the linked collections. Search results can be sorted by their similarity ranking to return the best matches first using popular scoring algorithms.\n",
        "\n",
        "Configurable Analyzers are available for text processing, such as for tokenization, language-specific word stemming, case conversion, removal of diacritical marks (accents) from characters and more. Analyzers can be used standalone or in combination with Views for sophisticated searching."
      ]
    },
    {
      "cell_type": "markdown",
      "metadata": {
        "id": "Ef2iwwcZcv5Z",
        "colab_type": "text"
      },
      "source": [
        "# Setup "
      ]
    },
    {
      "cell_type": "markdown",
      "metadata": {
        "id": "7F8dZs0ecv5Z",
        "colab_type": "text"
      },
      "source": [
        "Before getting started with ArangoSearch we need to prepare our environment and create a temporary database on ArangoDB's managed Service Oasis."
      ]
    },
    {
      "cell_type": "code",
      "metadata": {
        "id": "tdvfJPqXcv5a",
        "colab_type": "code",
        "colab": {}
      },
      "source": [
        "%%capture\n",
        "!git clone https://github.com/joerg84/ArangoDBUniversity.git\n",
        "!rsync -av ArangoDBUniversity/ ./ --exclude=.git\n",
        "!pip3 install pyarango\n",
        "!pip3 install \"python-arango>=5.0\""
      ],
      "execution_count": 0,
      "outputs": []
    },
    {
      "cell_type": "code",
      "metadata": {
        "id": "MsRTn2vYcv5e",
        "colab_type": "code",
        "colab": {}
      },
      "source": [
        "import json\n",
        "import requests\n",
        "import sys\n",
        "import oasis\n",
        "import time\n",
        "\n",
        "from pyArango.connection import *\n",
        "from arango import ArangoClient"
      ],
      "execution_count": 0,
      "outputs": []
    },
    {
      "cell_type": "markdown",
      "metadata": {
        "id": "C4kVUJw0cv5h",
        "colab_type": "text"
      },
      "source": [
        "Create the temporary database:"
      ]
    },
    {
      "cell_type": "code",
      "metadata": {
        "id": "IebOmBUCcv5i",
        "colab_type": "code",
        "colab": {
          "base_uri": "https://localhost:8080/",
          "height": 50
        },
        "outputId": "db130cfd-d3ae-40a0-ec1a-6aab1eea3dc4"
      },
      "source": [
        "# Retrieve tmp credentials from ArangoDB Tutorial Service\n",
        "login = oasis.getTempCredentials(\"ArangoSearchIMDBTutorial\")\n",
        "\n",
        "# Connect to the temp database\n",
        "# Please note that we use the python-arango driver as it has better support for ArangoSearch \n",
        "database = oasis.connect_python_arango(login)"
      ],
      "execution_count": 3,
      "outputs": [
        {
          "output_type": "stream",
          "text": [
            "Requesting new temp credentials.\n",
            "Temp database ready to use.\n"
          ],
          "name": "stdout"
        }
      ]
    },
    {
      "cell_type": "code",
      "metadata": {
        "id": "GGeJ4ap1cv5k",
        "colab_type": "code",
        "colab": {}
      },
      "source": [
        "print(\"https://\"+login[\"hostname\"]+\":\"+str(login[\"port\"]))\n",
        "print(\"Username: \" + login[\"username\"])\n",
        "print(\"Password: \" + login[\"password\"])\n",
        "print(\"Database: \" + login[\"dbName\"])"
      ],
      "execution_count": 0,
      "outputs": []
    },
    {
      "cell_type": "markdown",
      "metadata": {
        "id": "q0WGQAVycv5n",
        "colab_type": "text"
      },
      "source": [
        "Feel free to use to above URL to checkout the WebUI!"
      ]
    },
    {
      "cell_type": "markdown",
      "metadata": {
        "id": "fGqrT2yCcv5o",
        "colab_type": "text"
      },
      "source": [
        "##  IMDB Example Dataset"
      ]
    },
    {
      "cell_type": "markdown",
      "metadata": {
        "id": "YWNYuYC2cv5o",
        "colab_type": "text"
      },
      "source": [
        "![imdb](https://github.com/joerg84/ArangoDBUniversity/raw/master/img/IMDB_graph.png)"
      ]
    },
    {
      "cell_type": "markdown",
      "metadata": {
        "id": "G9XyQL1ccv5p",
        "colab_type": "text"
      },
      "source": [
        "Last, but not least we will import the [IMBD Example Dataset](https://github.com/arangodb/example-datasets/tree/master/Graphs/IMDB) including information about various movies, actors, directors, ... as a graph. \n",
        "*Note the included arangorestore will only work on Linux or Windows systems, if you want to run this notebook on a different OS please consider using the appropriate arangorestore from the [Download area](https://www.arangodb.com/download-major/)."
      ]
    },
    {
      "cell_type": "markdown",
      "metadata": {
        "id": "4Ts5D6VCcv5q",
        "colab_type": "text"
      },
      "source": [
        "## Linux:"
      ]
    },
    {
      "cell_type": "code",
      "metadata": {
        "id": "NlP4-eWQcv5q",
        "colab_type": "code",
        "colab": {}
      },
      "source": [
        "!./tools/arangorestore -c none --server.endpoint http+ssl://{login[\"hostname\"]}:{login[\"port\"]} --server.username {login[\"username\"]} --server.database {login[\"dbName\"]} --server.password {login[\"password\"]} --default-replication-factor 3  --input-directory \"data/imdb\" "
      ],
      "execution_count": 0,
      "outputs": []
    },
    {
      "cell_type": "markdown",
      "metadata": {
        "id": "vAn3mG-4cv5t",
        "colab_type": "text"
      },
      "source": [
        "# Create First View"
      ]
    },
    {
      "cell_type": "markdown",
      "metadata": {
        "id": "sC9_YW0ncv5u",
        "colab_type": "text"
      },
      "source": [
        "As discussed above, an ArangoSearch view contains references to documents stored in different collections. \n",
        "This makes it possible to perform complex federated searches, even over a complete graph including vertex and edge collections."
      ]
    },
    {
      "cell_type": "code",
      "metadata": {
        "id": "-g4Gu6Ofcv5u",
        "colab_type": "code",
        "colab": {
          "base_uri": "https://localhost:8080/",
          "height": 319
        },
        "outputId": "df1e50ca-0da4-442b-881f-5f77ad3d6100"
      },
      "source": [
        "# Create an ArangoSearch view.\n",
        "database.create_arangosearch_view(\n",
        "    name='v_imdb',\n",
        "    properties={'cleanupIntervalStep': 0}\n",
        ")"
      ],
      "execution_count": 6,
      "outputs": [
        {
          "output_type": "execute_result",
          "data": {
            "text/plain": [
              "{'cleanup_interval_step': 0,\n",
              " 'commit_interval_msec': 1000,\n",
              " 'consolidation_interval_msec': 10000,\n",
              " 'consolidation_policy': {'min_score': 0,\n",
              "  'segments_bytes_floor': 2097152,\n",
              "  'segments_bytes_max': 5368709120,\n",
              "  'segments_max': 10,\n",
              "  'segments_min': 1,\n",
              "  'type': 'tier'},\n",
              " 'global_id': 'c1086005617/',\n",
              " 'id': '1086005617',\n",
              " 'links': [],\n",
              " 'name': 'v_imdb',\n",
              " 'primary_sort': [],\n",
              " 'type': 'arangosearch',\n",
              " 'writebuffer_active': 0,\n",
              " 'writebuffer_idle': 64,\n",
              " 'writebuffer_max_size': 33554432}"
            ]
          },
          "metadata": {
            "tags": []
          },
          "execution_count": 6
        }
      ]
    },
    {
      "cell_type": "markdown",
      "metadata": {
        "id": "mUXt8tkMcv5z",
        "colab_type": "text"
      },
      "source": [
        "Let us check it is actually there:"
      ]
    },
    {
      "cell_type": "code",
      "metadata": {
        "id": "w3WpXuCXcv50",
        "colab_type": "code",
        "colab": {
          "base_uri": "https://localhost:8080/",
          "height": 34
        },
        "outputId": "36390a45-3b10-460d-97f6-e8462e5588e9"
      },
      "source": [
        "print(database[\"v_imdb\"])"
      ],
      "execution_count": 7,
      "outputs": [
        {
          "output_type": "stream",
          "text": [
            "<StandardCollection v_imdb>\n"
          ],
          "name": "stdout"
        }
      ]
    },
    {
      "cell_type": "markdown",
      "metadata": {
        "id": "uoME370fcv53",
        "colab_type": "text"
      },
      "source": [
        "As of now this view is empty, so we need to link it to a collection (i.e., imdb_vertices)."
      ]
    },
    {
      "cell_type": "code",
      "metadata": {
        "id": "ALIM-cnTcv54",
        "colab_type": "code",
        "colab": {
          "base_uri": "https://localhost:8080/",
          "height": 319
        },
        "outputId": "99abe8b4-f670-4a5c-ee53-86980cdacef7"
      },
      "source": [
        " link = { \n",
        "  \"includeAllFields\": True,\n",
        "  \"fields\" : { \"description\" : { \"analyzers\" : [ \"text_en\" ] } }\n",
        "}\n",
        "\n",
        "database.update_arangosearch_view(\n",
        "    name='v_imdb',\n",
        "    properties={'links': { 'imdb_vertices': link }}\n",
        ")"
      ],
      "execution_count": 8,
      "outputs": [
        {
          "output_type": "execute_result",
          "data": {
            "text/plain": [
              "{'cleanup_interval_step': 0,\n",
              " 'commit_interval_msec': 1000,\n",
              " 'consolidation_interval_msec': 10000,\n",
              " 'consolidation_policy': {'min_score': 0,\n",
              "  'segments_bytes_floor': 2097152,\n",
              "  'segments_bytes_max': 5368709120,\n",
              "  'segments_max': 10,\n",
              "  'segments_min': 1,\n",
              "  'type': 'tier'},\n",
              " 'global_id': 'c1086005617/',\n",
              " 'id': '1086005617',\n",
              " 'links': [{}],\n",
              " 'name': 'v_imdb',\n",
              " 'primary_sort': [],\n",
              " 'type': 'arangosearch',\n",
              " 'writebuffer_active': 0,\n",
              " 'writebuffer_idle': 64,\n",
              " 'writebuffer_max_size': 33554432}"
            ]
          },
          "metadata": {
            "tags": []
          },
          "execution_count": 8
        }
      ]
    },
    {
      "cell_type": "markdown",
      "metadata": {
        "id": "LfgEKD3jcv57",
        "colab_type": "text"
      },
      "source": [
        "As the indexing might take a few seconds, let us have a brief look at what is actually going on."
      ]
    },
    {
      "cell_type": "markdown",
      "metadata": {
        "id": "gSG-HvUbcv58",
        "colab_type": "text"
      },
      "source": [
        "![ArangoSearch](https://github.com/joerg84/ArangoDBUniversity/blob/master/img/ArangoSearch_Arch.jpg?raw=1)"
      ]
    },
    {
      "cell_type": "markdown",
      "metadata": {
        "id": "CrsAWAzycv59",
        "colab_type": "text"
      },
      "source": [
        "In order to fill the View using the specified analyzer, (`\"analyzers\" : [ \"text_en\" ]`) in our case, analyzers parse input values and transform them into sets of sub-values. For example, by breaking up text into words with language specific tokenization and stemming.\n",
        "Let us check how the `text_en` Analyzer tranforms an input into tokens:"
      ]
    },
    {
      "cell_type": "code",
      "metadata": {
        "id": "iM1ebJr7cv59",
        "colab_type": "code",
        "colab": {
          "base_uri": "https://localhost:8080/",
          "height": 34
        },
        "outputId": "0e0c17c6-d67f-410d-c852-d13d55007d45"
      },
      "source": [
        "cursor = database.aql.execute(\n",
        "  'RETURN TOKENS(\"I like ArangoDB because it rocks!\", \"text_en\")'\n",
        ")\n",
        "# Iterate through the result cursor\n",
        "for doc in cursor:\n",
        "  print(doc)"
      ],
      "execution_count": 9,
      "outputs": [
        {
          "output_type": "stream",
          "text": [
            "['i', 'like', 'arangodb', 'becaus', 'it', 'rock']\n"
          ],
          "name": "stdout"
        }
      ]
    },
    {
      "cell_type": "markdown",
      "metadata": {
        "id": "06kAhZKKcv6A",
        "colab_type": "text"
      },
      "source": [
        "By now our view should be ready, so let us issue the first query and look for short Drama Movies."
      ]
    },
    {
      "cell_type": "code",
      "metadata": {
        "id": "m0PTx6xacv6A",
        "colab_type": "code",
        "colab": {
          "base_uri": "https://localhost:8080/",
          "height": 605
        },
        "outputId": "d64d78ad-791b-43e2-9be8-eb519be1ca5c"
      },
      "source": [
        "cursor = database.aql.execute(\n",
        "  'FOR d IN v_imdb SEARCH d.type == \"Movie\" AND d.genre == \"Drama\" AND d.runtime IN 10..50 RETURN d.title'\n",
        ")\n",
        "# Iterate through the result cursor\n",
        "for doc in cursor:\n",
        "  print(doc)"
      ],
      "execution_count": 10,
      "outputs": [
        {
          "output_type": "stream",
          "text": [
            "Wellcome\n",
            "Rosemarie Nitribitt - Tod einer Edelhure\n",
            "Wiatr\n",
            "Primavera\n",
            "Lücken im Gedankenstrom\n",
            "Dr. Jekyll and Mr. Hyde\n",
            "Breaking Glass\n",
            "Pulsar\n",
            "Frühlings Erwachen - Eine Kindertragödie\n",
            "Glastage\n",
            "Sunday in August\n",
            "Land gewinnen\n",
            "À San Remo\n",
            "Carne\n",
            "Dr. Jekyll and Mr. Hyde\n",
            "Room 10\n",
            "Zwischen Flieder wandern und singen\n",
            "Alias\n",
            "Antoine et Colette\n",
            "Edison's Frankenstein\n",
            "Silvester Home Run\n",
            "Bis zur Unendlichkeit\n",
            "Space Riders\n",
            "True\n",
            "Kurz:Ivan\n",
            "Dreamcatcher\n",
            "The Kolaborator\n",
            "Rounds\n",
            "Melissa\n",
            "Hotel Chevalier\n",
            "Another Lady Innocent\n",
            "The Wiggles: Wiggle Bay\n",
            "Good Night\n",
            "Crin blanc: Le cheval sauvage\n",
            "VeggieTales: An Easter Carol\n"
          ],
          "name": "stdout"
        }
      ]
    },
    {
      "cell_type": "markdown",
      "metadata": {
        "id": "d4TLsS8gcv6D",
        "colab_type": "text"
      },
      "source": [
        "At this point you might wonder whether you could have achieved the same results with a simple AQL Filter"
      ]
    },
    {
      "cell_type": "code",
      "metadata": {
        "id": "Q5ajBJ9Tcv6D",
        "colab_type": "code",
        "colab": {
          "base_uri": "https://localhost:8080/",
          "height": 121
        },
        "outputId": "20fcc434-e6b3-4bca-ec9b-86754ad218bd"
      },
      "source": [
        "cursor = database.aql.execute(\n",
        "\"\"\"FOR d IN v_imdb \n",
        "SEARCH PHRASE(d.description, \"Star wars\", \"text_en\") \n",
        "RETURN {\"title\" :d.title, \"description\": d.description}\"\"\"\n",
        ")\n",
        "# Iterate through the result cursor\n",
        "for doc in cursor:\n",
        "  print(doc)"
      ],
      "execution_count": 11,
      "outputs": [
        {
          "output_type": "stream",
          "text": [
            "{'title': 'Fanboys', 'description': '\"Star Wars\" fans travel to Skywalker Ranch to steal an early copy of \"Episode I: The Phantom Menace\".'}\n",
            "{'title': 'Star Wars: The Clone Wars', 'description': \"Set between Episode II and III the Clone Wars is the first computer animated Star Wars film. Anakin and Obi Wan must find out who kidnapped Jabba the Hutts son and return him safely. The Seperatists will try anything to stop them and ruin any chance of a diplomatic agreement between the Hutt's and the Republic.\"}\n",
            "{'title': 'Gymkata', 'description': 'Johnathan Cabot is a champion gymnast. In the tiny, yet savage, country of Parmistan, there is a perfect spot for a \"star wars\" site. For the US to get this site, they must compete in the brutal \"Game\". The government calls on Cabot, the son of a former operative, to win the game. Cabot must combine his gymnastics skills of the west with fighting secrets of the east and form GYMKATA!'}\n",
            "{'title': 'Family Guy: Blue Harvest', 'description': 'With the Griffins stuck at home during a blackout, Peter begins to tell a story, which leads to a Star Wars flashback. Acting out scenes from Star Wars Episode IV: A New Hope.'}\n",
            "{'title': 'Battle Beyond the Stars', 'description': \"Roger Corman's post Star Wars take on The Seven Samurai.\"}\n"
          ],
          "name": "stdout"
        }
      ]
    },
    {
      "cell_type": "markdown",
      "metadata": {
        "id": "EgAGIfr-cv6G",
        "colab_type": "text"
      },
      "source": [
        "The difference between both queries is that the `SEARCH` query is using the previosuly created view whereas the 'FILTER' query has to perform post-processing on the entire result set.\n",
        "Furthermore, `SEARCH` queries allow us to do other cool things, which we will explore next."
      ]
    },
    {
      "cell_type": "markdown",
      "metadata": {
        "id": "C-3rsaQZcv6H",
        "colab_type": "text"
      },
      "source": [
        "In the next example we retrieve all movies mentioning “Star wars” in the description."
      ]
    },
    {
      "cell_type": "code",
      "metadata": {
        "id": "PDi06qqScv6H",
        "colab_type": "code",
        "colab": {
          "base_uri": "https://localhost:8080/",
          "height": 121
        },
        "outputId": "2e2e46a1-2f0f-4239-8dbf-6e59fe90dd32"
      },
      "source": [
        "cursor = database.aql.execute(\n",
        "\"\"\"FOR d IN v_imdb \n",
        "SEARCH PHRASE(d.description, \"Star wars\", \"text_en\") \n",
        "RETURN {title:d.title, description: d.description}\"\"\"\n",
        ")\n",
        "# Iterate through the result cursor\n",
        "for doc in cursor:\n",
        "  print(doc)"
      ],
      "execution_count": 12,
      "outputs": [
        {
          "output_type": "stream",
          "text": [
            "{'title': 'Fanboys', 'description': '\"Star Wars\" fans travel to Skywalker Ranch to steal an early copy of \"Episode I: The Phantom Menace\".'}\n",
            "{'title': 'Star Wars: The Clone Wars', 'description': \"Set between Episode II and III the Clone Wars is the first computer animated Star Wars film. Anakin and Obi Wan must find out who kidnapped Jabba the Hutts son and return him safely. The Seperatists will try anything to stop them and ruin any chance of a diplomatic agreement between the Hutt's and the Republic.\"}\n",
            "{'title': 'Gymkata', 'description': 'Johnathan Cabot is a champion gymnast. In the tiny, yet savage, country of Parmistan, there is a perfect spot for a \"star wars\" site. For the US to get this site, they must compete in the brutal \"Game\". The government calls on Cabot, the son of a former operative, to win the game. Cabot must combine his gymnastics skills of the west with fighting secrets of the east and form GYMKATA!'}\n",
            "{'title': 'Family Guy: Blue Harvest', 'description': 'With the Griffins stuck at home during a blackout, Peter begins to tell a story, which leads to a Star Wars flashback. Acting out scenes from Star Wars Episode IV: A New Hope.'}\n",
            "{'title': 'Battle Beyond the Stars', 'description': \"Roger Corman's post Star Wars take on The Seven Samurai.\"}\n"
          ],
          "name": "stdout"
        }
      ]
    },
    {
      "cell_type": "markdown",
      "metadata": {
        "id": "BVtzNjzucv6K",
        "colab_type": "text"
      },
      "source": [
        "## Proximity Search"
      ]
    },
    {
      "cell_type": "markdown",
      "metadata": {
        "id": "5AlyY_lEcv6K",
        "colab_type": "text"
      },
      "source": [
        "Proximity searching is a way to search for two or more words that occur within a certain number of words from each other.\n",
        "In the next example, we are looking for the word sequence \"in <any word> galaxy\" in the description of a movie.\n",
        "Feel free to try other values!"
      ]
    },
    {
      "cell_type": "code",
      "metadata": {
        "id": "3jtiP0uHcv6L",
        "colab_type": "code",
        "colab": {
          "base_uri": "https://localhost:8080/",
          "height": 87
        },
        "outputId": "a5f95f29-8044-454b-cf91-f0bf02602f46"
      },
      "source": [
        "# Execute the query\n",
        "cursor = database.aql.execute(\n",
        "  'FOR d IN v_imdb SEARCH PHRASE(d.description, \"in\", 1, \"galaxy\", \"text_en\") RETURN {title:d.title, description: d.description}'\n",
        ")\n",
        "# Iterate through the result cursor\n",
        "for doc in cursor:\n",
        "  print(doc)"
      ],
      "execution_count": 13,
      "outputs": [
        {
          "output_type": "stream",
          "text": [
            "{'title': 'Lost in Space', 'description': 'The prospects for continuing life on Earth in the year 2058 are grim. So the Robinsons are launched into space to colonize Alpha Prime, the only other inhabitable planet in the galaxy. But when a stowaway sabotages the mission, the Robinsons find themselves hurtling through uncharted space.'}\n",
            "{'title': 'The Ice Pirates', 'description': 'The time is the distant future, where by far the most precious commodity in the galaxy is water. The last surviving water planet was somehow removed to the unreachable centre of the galaxy at the end of the galactic trade wars. The galaxy is ruled by an evil emperor (John Carradine) presiding over a trade oligarchy that controls all mining and sale of ice from asteroids and comets.'}\n",
            "{'title': 'Alien Tracker', 'description': \"In a galaxy far away, alien criminals organize a spectacular prison break. Pursued by their home planet's authorities, their leader Zin decides there's only one place to go: through a wormhole that allows instantaneous travel to Earth. Cole is the Alien Tracker who's in hot pursuit of the escaped convicts.\"}\n"
          ],
          "name": "stdout"
        }
      ]
    },
    {
      "cell_type": "markdown",
      "metadata": {
        "id": "rR0jdygCcv6O",
        "colab_type": "text"
      },
      "source": [
        "## Ranking and Document Relevance"
      ]
    },
    {
      "cell_type": "markdown",
      "metadata": {
        "id": "dpNZFXGVcv6P",
        "colab_type": "text"
      },
      "source": [
        "Great, now we can identify documents containing a specific phrase,\n",
        "but especially with large document bases we need to be able to rank documents based on the their relevance.\n",
        "ArangoSearch supports the following two schemes:\n",
        "\n",
        "* [Okapi BM25](https://en.wikipedia.org/wiki/Okapi_BM25)\n",
        "\n",
        "* [TFIDF](https://en.wikipedia.org/wiki/Tf%E2%80%93idf)\n",
        "\n",
        "You can learn more about ranking in the [documentation](https://www.arangodb.com/docs/3.6/aql/functions-arangosearch.html#scoring-functions)."
      ]
    },
    {
      "cell_type": "markdown",
      "metadata": {
        "id": "WVFX3F2Ocv6P",
        "colab_type": "text"
      },
      "source": [
        "So let us find movies with the following key-words: “amazing, action, world, alien, sci-fi, science, documental, galaxy”"
      ]
    },
    {
      "cell_type": "code",
      "metadata": {
        "id": "Ouusr_yZcv6Q",
        "colab_type": "code",
        "colab": {
          "base_uri": "https://localhost:8080/",
          "height": 205
        },
        "outputId": "72d351ee-44f2-4d44-edbf-f294dd7b228e"
      },
      "source": [
        "cursor = database.aql.execute(\n",
        "  \"\"\"FOR d IN v_imdb \n",
        "  SEARCH ANALYZER(d.description IN TOKENS('amazing action world alien sci-fi science documental galaxy', 'text_en'), 'text_en') \n",
        "  SORT BM25(d) DESC \n",
        "  LIMIT 10 \n",
        "  RETURN {\"title\": d.title, \"description\" : d.description}\"\"\"\n",
        ")\n",
        "# Iterate through the result cursor\n",
        "for doc in cursor:\n",
        "  print(doc)"
      ],
      "execution_count": 14,
      "outputs": [
        {
          "output_type": "stream",
          "text": [
            "{'title': 'AVPR: Aliens vs. Predator - Requiem', 'description': \"Prepare for more mayhem as warring aliens and predators return for Round 2 of their no-holds-barred slugfest. This time, the intergalactic creatures do battle in a small American town, throwing local residents into harm's way. To save the planet, the humans must oust both types of unwelcome guests. This sci-fi sequel features tons of spectacular action sequences full of nifty new gadgets and gooey monster gore.\"}\n",
            "{'title': 'Moon 44', 'description': 'In 2038, at a remote outpost on Moon 44, Galactic Mining Corp. agent Felix Stone (Michael Paré) embarks on a dangerous mission to stop the hijacking of precious natural resources needed on Earth. To do so, he must battle a familiar foe and an alien enemy. Malcolm McDowell, Lisa Eichhorn and Dean Devlin star in this sci-fi thriller from action director Roland Emmerich (Independence Day).'}\n",
            "{'title': 'Dark Star', 'description': 'A low-budget, sci-fi satire that focuses on a group of scientists whose mission is to destroy unstable planets. 20 years into their mission, they have battle their alien mascot, that resembles a beach ball, as well as a \"sensitive\" and intelligent bombing device that starts to question the meaning of its existence.'}\n",
            "{'title': 'Starship Troopers 2: Hero of the Federation', 'description': \"In the sequel to Paul Verhoeven's loved/reviled sci-fi film, a group of troopers taking refuge in an abandoned outpost after fighting alien bugs, failing to realize that more danger lays in wait.\"}\n",
            "{'title': 'Push', 'description': 'The action packed sci-fi thriller involves a group of young American ex-pats with telekinetic and clairvoyant abilities, hiding from a clandestine U.S. government agency. They must utilize their different talents and band together for a final job enabling them to escape the agency forever.'}\n",
            "{'title': 'Casshern', 'description': 'Live-action sci-fi movie based on a 1973 Japanese animé of the same name.'}\n",
            "{'title': 'Puzzlehead', 'description': 'In a post apocalyptic world where technology is outlawed, Walter, a reclusive scientist, secretly creates a self-aware android, \"Puzzlehead\". Jealously erupts when Puzzlehead wins the affection of Julia, the beautiful shopgirl that Walter has longed for. The resulting Sci-Fi love triangle is a Frankensteinian fable that traps all three in a web of deception and the ultimate betrayal.'}\n",
            "{'title': 'Cesta do pravěku', 'description': 'Most classical sci-fi from K. Zeman. Four young boys visit a dinosaur exhibit at the New York city Museum of Natural History. They then row out onto Central Park Lake where they find a secret cave and paddle into, and go back-in-time into a wondrous prehistoric world filled with the very dinosaurs they had just seen.'}\n",
            "{'title': 'Interstella 5555: The 5tory of the 5ecret 5tar 5ystem', 'description': 'A sci-fi japanimation House-musical movie collaboration between Daft Punk--and their music--and designer Leiji Matsumoto. During the recording of their DISCOVERY album and using the themes of sci-fi celebrity, decadence and space travel, Daft Punk--with help from Cedric Hervet--wrote the story and inspired seasoned Japanese animators to symbiotically create this stunning space musical.'}\n",
            "{'title': 'Alien Planet', 'description': \"The dynamic meeting of solid science and futuristic simulation culminates in a dramatic exploration to another inhabited planet seven light years away. Alien Planet creates a realistic depiction of creatures on another world, where life is possible, if not provable, according to scientists' theories. Take this fascinating journey created by state-of-the-art animation and photo-realistic effects.\"}\n"
          ],
          "name": "stdout"
        }
      ]
    },
    {
      "cell_type": "markdown",
      "metadata": {
        "id": "NnPz2dKkcv6T",
        "colab_type": "text"
      },
      "source": [
        "Another crucial point of ArangoSearch is the ability to fine-tune document scores evaluated by relevance models at query time. That functionality is exposed in AQL via the BOOST function.\n",
        "So let us tweak our previous query to prefer “galaxy” amongst the others keywords."
      ]
    },
    {
      "cell_type": "code",
      "metadata": {
        "id": "qV-WtH21cv6U",
        "colab_type": "code",
        "colab": {
          "base_uri": "https://localhost:8080/",
          "height": 205
        },
        "outputId": "4c67f276-4d66-42c9-997c-583af784812e"
      },
      "source": [
        "cursor = database.aql.execute(\n",
        "\"\"\"FOR d IN v_imdb \n",
        "   SEARCH ANALYZER(d.description IN TOKENS('amazing action world alien sci-fi science documental', 'text_en') ||\n",
        "   BOOST(d.description IN TOKENS('galaxy', 'text_en'), 5), 'text_en') \n",
        "   SORT BM25(d) DESC \n",
        "   LIMIT 10 \n",
        "   RETURN {\"title\": d.title, \"description\" : d.description}\"\"\"\n",
        ")\n",
        "# Iterate through the result cursor\n",
        "for doc in cursor:\n",
        "  print(doc)"
      ],
      "execution_count": 15,
      "outputs": [
        {
          "output_type": "stream",
          "text": [
            "{'title': 'Star Trek Collection', 'description': 'Star Trek a futuristic science fiction franchise. With a space ship that can travel faster than the speed of light, galaxies to explore, and cool skin tight suits to beam up in, Star Trek has been, since the 1960’s, a series of Films, various TV series, video games, the host of many spin-offs, and the possibly the first to use the cell phone. Star Trek fans are some of the most devout.'}\n",
            "{'title': 'Alien Tracker', 'description': \"In a galaxy far away, alien criminals organize a spectacular prison break. Pursued by their home planet's authorities, their leader Zin decides there's only one place to go: through a wormhole that allows instantaneous travel to Earth. Cole is the Alien Tracker who's in hot pursuit of the escaped convicts.\"}\n",
            "{'title': 'Stitch! The Movie', 'description': 'The continuing adventures of Lilo, a little Hawaiian girl, and Stitch, the galaxy\\'s most wanted extraterrestrial. Stitch, Pleakley, and Dr. Jumba are all part of the household now. But what Lilo and Stitch don\\'t know is that Dr. Jumba brought one of his alien \"experiments\" to Hawaii.'}\n",
            "{'title': \"The Hitchhiker's Guide to the Galaxy\", 'description': 'Mere seconds before the Earth is to be demolished by an alien construction crew, Arthur Dent is swept off the planet by his friend Ford Prefect, a researcher penning a new edition of \"The Hitchhiker\\'s Guide to the Galaxy.\"'}\n",
            "{'title': 'Stargate: The Ark of Truth', 'description': \"SG-1 searches for an ancient weapon which could help them defeat the Ori, and discover it may be in the Ori's own home galaxy. As the Ori prepare to send ships through to the Milky Way to attack Earth, SG-1 travels to the Ori galaxy aboard the Odyssey. The International Oversight committee have their own plans and SG-1 finds themselves in a distant galaxy fighting two powerful enemies.\"}\n",
            "{'title': 'The Ice Pirates', 'description': 'The time is the distant future, where by far the most precious commodity in the galaxy is water. The last surviving water planet was somehow removed to the unreachable centre of the galaxy at the end of the galactic trade wars. The galaxy is ruled by an evil emperor (John Carradine) presiding over a trade oligarchy that controls all mining and sale of ice from asteroids and comets.'}\n",
            "{'title': 'Star Wars: Episode III: Revenge of the Sith', 'description': \"(19 Years before Episode IV) Three years after the onset of the Clone Wars, the noble Jedi Knights have been leading a massive clone army into a galaxy-wide battle against the Separatists. When the sinister Sith unveil a thousand-year-old plot to rule the galaxy, the Republic crumbles and from its ashes rises the evil Galactic Empire. Jedi hero Anakin Skywalker is seduced by the dark side of the Force to become the Emperor's new apprentice - Darth Vader. The Jedi are decimated, as Obi-Wan Kenobi\"}\n",
            "{'title': 'Star Wars: Episode II - Attack of the Clones', 'description': '(22 Years Before Episode IV) Ten years after the events of the Battle of Naboo, not only has the galaxy undergone significant change, but so have Obi-Wan Kenobi, Padmé Amidala, and Anakin Skywalker as they are thrown together again for the first time since the Trade Federation invasion of Naboo. Anakin has grown into the accomplished Jedi apprentice of Obi-Wan, who himself has transitioned from student to teacher. The two Jedi are assigned to protect Padmé whose life is threatened by a faction o'}\n",
            "{'title': 'Macross Plus', 'description': \"Three decades after the great war between the humans and the Zentradi, the U.N. government is developing new technologies to use in their transforming fighter aircraft by running tests on the colony planet Eden. Military test pilots and former childhood friends, loose cannon Isamu Alva Dyson and the Zentradi mixed race Guld Goa Bowman, are selected to each pilot a new aircraft (Shinsei Industries' YF-19 & General Galaxy's YF-21) for Project Super Nova, to choose the newest successor to the VF-11\"}\n",
            "{'title': 'Star Trek', 'description': 'The fate of the galaxy rests in the hands of bitter rivals. One, James Kirk, is a delinquent, thrill-seeking Iowa farm boy. The other, Spock, a Vulcan, was raised in a logic-based society that rejects all emotion. As fiery instinct clashes with calm reason, their unlikely but powerful partnership is the only thing capable of leading their crew through unimaginable danger, boldly going where no one has gone before. The human adventure has begun again.'}\n"
          ],
          "name": "stdout"
        }
      ]
    },
    {
      "cell_type": "markdown",
      "metadata": {
        "id": "nL9Y2BStcv6X",
        "colab_type": "text"
      },
      "source": [
        "## ArangoSearch Meets Graph"
      ]
    },
    {
      "cell_type": "markdown",
      "metadata": {
        "id": "gBNt6Qkqcv6Y",
        "colab_type": "text"
      },
      "source": [
        "One of the coolest features of ArangoDB, being a multi-model database, is that we can combine different data-model and query capabilites.\n",
        "So, for example, we can easily combine ArangoSearch with a Graph traversal. Recall that our imdb dataset is a graph with edges connecting \n",
        "the movies we have been looking at to their respective actors, genres, or directors. Let us explore this and look up the director for each each of the Sci-fi movies above."
      ]
    },
    {
      "cell_type": "code",
      "metadata": {
        "id": "oGJKgFYxcv6Y",
        "colab_type": "code",
        "colab": {
          "base_uri": "https://localhost:8080/",
          "height": 118
        },
        "outputId": "e506f819-0633-4ae9-f74f-47a7fb3db157"
      },
      "source": [
        "cursor = database.aql.execute(\n",
        "\"\"\"\n",
        "FOR d IN v_imdb \n",
        "   SEARCH ANALYZER(d.description IN TOKENS('amazing action world alien sci-fi science documental', 'text_en') ||\n",
        "    BOOST(d.description IN TOKENS('galaxy', 'text_en'), 5), 'text_en') \n",
        "   SORT BM25(d) DESC \n",
        "   LIMIT 10 \n",
        "     FOR vertex, edge, path IN 1..1 INBOUND d imdb_edges\n",
        "     FILTER path.edges[0].$label == \"DIRECTED\"\n",
        "     RETURN DISTINCT {\"director\" : vertex.name, \"movie\" : d.title} \n",
        "\"\"\"\n",
        ")\n",
        "# Iterate through the result cursor\n",
        "for doc in cursor:\n",
        "  print(doc)"
      ],
      "execution_count": 16,
      "outputs": [
        {
          "output_type": "stream",
          "text": [
            "{'director': 'Garth Jennings', 'movie': \"The Hitchhiker's Guide to the Galaxy\"}\n",
            "{'director': 'Robert C. Cooper', 'movie': 'Stargate: The Ark of Truth'}\n",
            "{'director': 'Stewart Raffill', 'movie': 'The Ice Pirates'}\n",
            "{'director': 'George Lucas', 'movie': 'Star Wars: Episode III: Revenge of the Sith'}\n",
            "{'director': 'George Lucas', 'movie': 'Star Wars: Episode II - Attack of the Clones'}\n",
            "{'director': 'J.J. Abrams', 'movie': 'Star Trek'}\n"
          ],
          "name": "stdout"
        }
      ]
    },
    {
      "cell_type": "markdown",
      "metadata": {
        "id": "gYqfBW5Icv6b",
        "colab_type": "text"
      },
      "source": [
        "# Further Links"
      ]
    },
    {
      "cell_type": "markdown",
      "metadata": {
        "id": "0yUOMPzVcv6c",
        "colab_type": "text"
      },
      "source": [
        "* https://www.arangodb.com/docs/stable/arangosearch.html\n",
        "\n",
        "* https://www.arangodb.com/arangodb-training-center/search/arangosearch/"
      ]
    }
  ]
}