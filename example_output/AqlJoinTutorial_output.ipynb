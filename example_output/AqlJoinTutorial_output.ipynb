{
  "nbformat": 4,
  "nbformat_minor": 0,
  "metadata": {
    "kernelspec": {
      "display_name": "Python 3",
      "language": "python",
      "name": "python3"
    },
    "language_info": {
      "codemirror_mode": {
        "name": "ipython",
        "version": 3
      },
      "file_extension": ".py",
      "mimetype": "text/x-python",
      "name": "python",
      "nbconvert_exporter": "python",
      "pygments_lexer": "ipython3",
      "version": "3.7.7"
    },
    "colab": {
      "name": "AqlJoinTutorial.ipynb",
      "provenance": []
    }
  },
  "cells": [
    {
      "cell_type": "markdown",
      "metadata": {
        "id": "B9j2PFrc5g1e",
        "colab_type": "text"
      },
      "source": [
        "![arangodb](https://github.com/joerg84/ArangoDBUniversity/blob/master/img/ArangoDB_logo.png?raw=1)"
      ]
    },
    {
      "cell_type": "markdown",
      "metadata": {
        "id": "21XUTA1y5g1f",
        "colab_type": "text"
      },
      "source": [
        "# AQL Join Tutorial"
      ]
    },
    {
      "cell_type": "markdown",
      "metadata": {
        "id": "Lgbd8Mta5g1f",
        "colab_type": "text"
      },
      "source": [
        "<a href=\"https://colab.research.google.com/github/joerg84/ArangoDBUniversity/blob/master/AqlJoinTutorial.ipynb\" target=\"_parent\"><img src=\"https://colab.research.google.com/assets/colab-badge.svg\" alt=\"Open In Colab\"/></a>"
      ]
    },
    {
      "cell_type": "markdown",
      "metadata": {
        "id": "C0fHHfVh5g1f",
        "colab_type": "text"
      },
      "source": [
        "In the previous parts of this AQL tutorial series, we have already covered a number of topics:\n",
        "* [Part 1: CRUD](https://colab.research.google.com/github/joerg84/ArangoDBUniversity/blob/master/AqlCrudTutorial.ipynb) \n",
        "* [Part 2: Limit, Sort, Filter](https://colab.research.google.com/github/joerg84/ArangoDBUniversity/blob/master/AqlPart2Tutorial.ipynb)\n",
        "\n",
        "In this part we cover how we can combine (aka join) information from multiple documents.\n",
        "\n",
        "\n",
        "Recall, that in addition to the python interface, you can interact with ArangoDB using its web interface to manage collections and execute the queries.\n",
        "This notebook creates a temporary database, so you can perform all queries in this notebook or use the URL provided to you below to access the web interface."
      ]
    },
    {
      "cell_type": "markdown",
      "metadata": {
        "id": "FR-HqKkr5g1g",
        "colab_type": "text"
      },
      "source": [
        "# Setup "
      ]
    },
    {
      "cell_type": "markdown",
      "metadata": {
        "id": "Kz-oWHia5g1g",
        "colab_type": "text"
      },
      "source": [
        "Before getting started with ArangoDB we need to prepare our environment and create a temporary database on ArangoDB's managed Service Oasis."
      ]
    },
    {
      "cell_type": "code",
      "metadata": {
        "id": "ujPzZtmn5g1h",
        "colab_type": "code",
        "colab": {}
      },
      "source": [
        "%%capture\n",
        "!git clone https://github.com/joerg84/ArangoDBUniversity.git\n",
        "!rsync -av ArangoDBUniversity/ ./ --exclude=.git\n",
        "!pip3 install pyarango\n",
        "!pip3 install \"python-arango>=5.0\""
      ],
      "execution_count": 0,
      "outputs": []
    },
    {
      "cell_type": "code",
      "metadata": {
        "id": "_BwL8GYU5g1j",
        "colab_type": "code",
        "colab": {}
      },
      "source": [
        "import json\n",
        "import requests\n",
        "import sys\n",
        "import oasis\n",
        "import time\n",
        "from IPython.display import JSON\n",
        "\n",
        "from pyArango.connection import *\n",
        "from arango import ArangoClient"
      ],
      "execution_count": 0,
      "outputs": []
    },
    {
      "cell_type": "markdown",
      "metadata": {
        "id": "RSrjxbg75g1l",
        "colab_type": "text"
      },
      "source": [
        "Create the temporary database:"
      ]
    },
    {
      "cell_type": "code",
      "metadata": {
        "id": "rYgoj-wG5g1l",
        "colab_type": "code",
        "colab": {
          "base_uri": "https://localhost:8080/",
          "height": 51
        },
        "outputId": "3daaacb1-1ff7-4191-e813-4d4fc6fab071"
      },
      "source": [
        "# Retrieve tmp credentials from ArangoDB Tutorial Service\n",
        "login = oasis.getTempCredentials(tutorialName=\"AqlJoinTutorial\", credentialProvider='https://tutorials.arangodb.cloud:8529/_db/_system/tutorialDB/tutorialDB')\n",
        "\n",
        "# Connect to the temp database\n",
        "conn = oasis.connect(login)\n",
        "db = conn[login[\"dbName\"]] "
      ],
      "execution_count": 3,
      "outputs": [
        {
          "output_type": "stream",
          "text": [
            "Requesting new temp credentials.\n",
            "Temp database ready to use.\n"
          ],
          "name": "stdout"
        }
      ]
    },
    {
      "cell_type": "code",
      "metadata": {
        "id": "nWOcYC2q5g1n",
        "colab_type": "code",
        "colab": {
          "base_uri": "https://localhost:8080/",
          "height": 85
        },
        "outputId": "7278fe8c-9d9e-4fda-a4c4-bab28579082b"
      },
      "source": [
        "print(\"https://{}:{}\".format(login[\"hostname\"], login[\"port\"]))\n",
        "print(\"Username: \" + login[\"username\"])\n",
        "print(\"Password: \" + login[\"password\"])\n",
        "print(\"Database: \" + login[\"dbName\"])"
      ],
      "execution_count": 4,
      "outputs": [
        {
          "output_type": "stream",
          "text": [
            "https://tutorials.arangodb.cloud:8529\n",
            "Username: TUTaoje52w1wqtlmwlw55aq9c\n",
            "Password: TUTlt898z0uqkn0gibbyw41uyl\n",
            "Database: TUT4b4475lmvq4ezzdpvpeumt\n"
          ],
          "name": "stdout"
        }
      ]
    },
    {
      "cell_type": "markdown",
      "metadata": {
        "id": "Ym2QG5zu5g1p",
        "colab_type": "text"
      },
      "source": [
        "Feel free to use to above URL to checkout the UI!"
      ]
    },
    {
      "cell_type": "markdown",
      "metadata": {
        "id": "chdjzEF_5g1p",
        "colab_type": "text"
      },
      "source": [
        "##  Import Data"
      ]
    },
    {
      "cell_type": "markdown",
      "metadata": {
        "id": "za_146Na5g1p",
        "colab_type": "text"
      },
      "source": [
        "We will work with the same dataset as in the [first part of this tutorial](https://colab.research.google.com/github/joerg84/ArangoDBUniversity/blob/master/AqlCrudTutorial.ipynb). So let us quickly import that into our temporary database. "
      ]
    },
    {
      "cell_type": "code",
      "metadata": {
        "id": "zlKQGzvA5g1q",
        "colab_type": "code",
        "colab": {
          "base_uri": "https://localhost:8080/",
          "height": 34
        },
        "outputId": "7084196d-5ac8-476b-98d9-24d1b9a3fcec"
      },
      "source": [
        "# Create the Characters Collection \n",
        "db.createCollection(name=\"Characters\")"
      ],
      "execution_count": 6,
      "outputs": [
        {
          "output_type": "execute_result",
          "data": {
            "text/plain": [
              "ArangoDB collection name: Characters, id: 14021944, type: document, status: loaded"
            ]
          },
          "metadata": {
            "tags": []
          },
          "execution_count": 6
        }
      ]
    },
    {
      "cell_type": "code",
      "metadata": {
        "id": "v4StFI_c5g1s",
        "colab_type": "code",
        "colab": {
          "base_uri": "https://localhost:8080/",
          "height": 34
        },
        "outputId": "314f40c3-4f75-44ef-a06e-da0b261e952c"
      },
      "source": [
        "insert_query = \"\"\"\n",
        "LET data = [\n",
        "    { \"name\": \"Ned\", \"surname\": \"Stark\", \"alive\": true, \"age\": 41, \"traits\": [\"A\",\"H\",\"C\",\"N\",\"P\"] },\n",
        "    { \"name\": \"Robert\", \"surname\": \"Baratheon\", \"alive\": false, \"traits\": [\"A\",\"H\",\"C\"] },\n",
        "    { \"name\": \"Jaime\", \"surname\": \"Lannister\", \"alive\": true, \"age\": 36, \"traits\": [\"A\",\"F\",\"B\"] },\n",
        "    { \"name\": \"Catelyn\", \"surname\": \"Stark\", \"alive\": false, \"age\": 40, \"traits\": [\"D\",\"H\",\"C\"] },\n",
        "    { \"name\": \"Cersei\", \"surname\": \"Lannister\", \"alive\": true, \"age\": 36, \"traits\": [\"H\",\"E\",\"F\"] },\n",
        "    { \"name\": \"Daenerys\", \"surname\": \"Targaryen\", \"alive\": true, \"age\": 16, \"traits\": [\"D\",\"H\",\"C\"] },\n",
        "    { \"name\": \"Jorah\", \"surname\": \"Mormont\", \"alive\": false, \"traits\": [\"A\",\"B\",\"C\",\"F\"] },\n",
        "    { \"name\": \"Petyr\", \"surname\": \"Baelish\", \"alive\": false, \"traits\": [\"E\",\"G\",\"F\"] },\n",
        "    { \"name\": \"Viserys\", \"surname\": \"Targaryen\", \"alive\": false, \"traits\": [\"O\",\"L\",\"N\"] },\n",
        "    { \"name\": \"Jon\", \"surname\": \"Snow\", \"alive\": true, \"age\": 16, \"traits\": [\"A\",\"B\",\"C\",\"F\"] },\n",
        "    { \"name\": \"Sansa\", \"surname\": \"Stark\", \"alive\": true, \"age\": 13, \"traits\": [\"D\",\"I\",\"J\"] },\n",
        "    { \"name\": \"Arya\", \"surname\": \"Stark\", \"alive\": true, \"age\": 11, \"traits\": [\"C\",\"K\",\"L\"] },\n",
        "    { \"name\": \"Robb\", \"surname\": \"Stark\", \"alive\": false, \"traits\": [\"A\",\"B\",\"C\",\"K\"] },\n",
        "    { \"name\": \"Theon\", \"surname\": \"Greyjoy\", \"alive\": true, \"age\": 16, \"traits\": [\"E\",\"R\",\"K\"] },\n",
        "    { \"name\": \"Bran\", \"surname\": \"Stark\", \"alive\": true, \"age\": 10, \"traits\": [\"L\",\"J\"] },\n",
        "    { \"name\": \"Joffrey\", \"surname\": \"Baratheon\", \"alive\": false, \"age\": 19, \"traits\": [\"I\",\"L\",\"O\"] },\n",
        "    { \"name\": \"Sandor\", \"surname\": \"Clegane\", \"alive\": true, \"traits\": [\"A\",\"P\",\"K\",\"F\"] },\n",
        "    { \"name\": \"Tyrion\", \"surname\": \"Lannister\", \"alive\": true, \"age\": 32, \"traits\": [\"F\",\"K\",\"M\",\"N\"] },\n",
        "    { \"name\": \"Khal\", \"surname\": \"Drogo\", \"alive\": false, \"traits\": [\"A\",\"C\",\"O\",\"P\"] },\n",
        "    { \"name\": \"Tywin\", \"surname\": \"Lannister\", \"alive\": false, \"traits\": [\"O\",\"M\",\"H\",\"F\"] },\n",
        "    { \"name\": \"Davos\", \"surname\": \"Seaworth\", \"alive\": true, \"age\": 49, \"traits\": [\"C\",\"K\",\"P\",\"F\"] },\n",
        "    { \"name\": \"Samwell\", \"surname\": \"Tarly\", \"alive\": true, \"age\": 17, \"traits\": [\"C\",\"L\",\"I\"] },\n",
        "    { \"name\": \"Stannis\", \"surname\": \"Baratheon\", \"alive\": false, \"traits\": [\"H\",\"O\",\"P\",\"M\"] },\n",
        "    { \"name\": \"Melisandre\", \"alive\": true, \"traits\": [\"G\",\"E\",\"H\"] },\n",
        "    { \"name\": \"Margaery\", \"surname\": \"Tyrell\", \"alive\": false, \"traits\": [\"M\",\"D\",\"B\"] },\n",
        "    { \"name\": \"Jeor\", \"surname\": \"Mormont\", \"alive\": false, \"traits\": [\"C\",\"H\",\"M\",\"P\"] },\n",
        "    { \"name\": \"Bronn\", \"alive\": true, \"traits\": [\"K\",\"E\",\"C\"] },\n",
        "    { \"name\": \"Varys\", \"alive\": true, \"traits\": [\"M\",\"F\",\"N\",\"E\"] },\n",
        "    { \"name\": \"Shae\", \"alive\": false, \"traits\": [\"M\",\"D\",\"G\"] },\n",
        "    { \"name\": \"Talisa\", \"surname\": \"Maegyr\", \"alive\": false, \"traits\": [\"D\",\"C\",\"B\"] },\n",
        "    { \"name\": \"Gendry\", \"alive\": false, \"traits\": [\"K\",\"C\",\"A\"] },\n",
        "    { \"name\": \"Ygritte\", \"alive\": false, \"traits\": [\"A\",\"P\",\"K\"] },\n",
        "    { \"name\": \"Tormund\", \"surname\": \"Giantsbane\", \"alive\": true, \"traits\": [\"C\",\"P\",\"A\",\"I\"] },\n",
        "    { \"name\": \"Gilly\", \"alive\": true, \"traits\": [\"L\",\"J\"] },\n",
        "    { \"name\": \"Brienne\", \"surname\": \"Tarth\", \"alive\": true, \"age\": 32, \"traits\": [\"P\",\"C\",\"A\",\"K\"] },\n",
        "    { \"name\": \"Ramsay\", \"surname\": \"Bolton\", \"alive\": true, \"traits\": [\"E\",\"O\",\"G\",\"A\"] },\n",
        "    { \"name\": \"Ellaria\", \"surname\": \"Sand\", \"alive\": true, \"traits\": [\"P\",\"O\",\"A\",\"E\"] },\n",
        "    { \"name\": \"Daario\", \"surname\": \"Naharis\", \"alive\": true, \"traits\": [\"K\",\"P\",\"A\"] },\n",
        "    { \"name\": \"Missandei\", \"alive\": true, \"traits\": [\"D\",\"L\",\"C\",\"M\"] },\n",
        "    { \"name\": \"Tommen\", \"surname\": \"Baratheon\", \"alive\": true, \"traits\": [\"I\",\"L\",\"B\"] },\n",
        "    { \"name\": \"Jaqen\", \"surname\": \"H'ghar\", \"alive\": true, \"traits\": [\"H\",\"F\",\"K\"] },\n",
        "    { \"name\": \"Roose\", \"surname\": \"Bolton\", \"alive\": true, \"traits\": [\"H\",\"E\",\"F\",\"A\"] },\n",
        "    { \"name\": \"The High Sparrow\", \"alive\": true, \"traits\": [\"H\",\"M\",\"F\",\"O\"] }\n",
        "]\n",
        "\n",
        "FOR d IN data\n",
        "    INSERT d INTO Characters\n",
        "\"\"\"\n",
        "\n",
        "db.AQLQuery(insert_query)"
      ],
      "execution_count": 7,
      "outputs": [
        {
          "output_type": "execute_result",
          "data": {
            "text/plain": [
              "<pyArango.query.AQLQuery at 0x7fca6e36f518>"
            ]
          },
          "metadata": {
            "tags": []
          },
          "execution_count": 7
        }
      ]
    },
    {
      "cell_type": "markdown",
      "metadata": {
        "id": "grY1A1AT5g1u",
        "colab_type": "text"
      },
      "source": [
        "As before, let us check the `Characters` collection:"
      ]
    },
    {
      "cell_type": "code",
      "metadata": {
        "id": "x1zfJkU65g1u",
        "colab_type": "code",
        "colab": {
          "base_uri": "https://localhost:8080/",
          "height": 1000
        },
        "outputId": "123b5773-7ada-406c-9e83-d2e8f0c58158"
      },
      "source": [
        "all_characters_names = \"\"\"\n",
        "FOR c IN Characters\n",
        "    RETURN c.name\n",
        "\"\"\"\n",
        "\n",
        "query_result = db.AQLQuery(all_characters_names, rawResults=True)\n",
        "for doc in  query_result:\n",
        "    print(doc)\n",
        "    print()"
      ],
      "execution_count": 8,
      "outputs": [
        {
          "output_type": "stream",
          "text": [
            "Ned\n",
            "\n",
            "Robert\n",
            "\n",
            "Jaime\n",
            "\n",
            "Catelyn\n",
            "\n",
            "Cersei\n",
            "\n",
            "Daenerys\n",
            "\n",
            "Jorah\n",
            "\n",
            "Petyr\n",
            "\n",
            "Viserys\n",
            "\n",
            "Jon\n",
            "\n",
            "Sansa\n",
            "\n",
            "Arya\n",
            "\n",
            "Robb\n",
            "\n",
            "Theon\n",
            "\n",
            "Bran\n",
            "\n",
            "Joffrey\n",
            "\n",
            "Sandor\n",
            "\n",
            "Tyrion\n",
            "\n",
            "Khal\n",
            "\n",
            "Tywin\n",
            "\n",
            "Davos\n",
            "\n",
            "Samwell\n",
            "\n",
            "Stannis\n",
            "\n",
            "Melisandre\n",
            "\n",
            "Margaery\n",
            "\n",
            "Jeor\n",
            "\n",
            "Bronn\n",
            "\n",
            "Varys\n",
            "\n",
            "Shae\n",
            "\n",
            "Talisa\n",
            "\n",
            "Gendry\n",
            "\n",
            "Ygritte\n",
            "\n",
            "Tormund\n",
            "\n",
            "Gilly\n",
            "\n",
            "Brienne\n",
            "\n",
            "Ramsay\n",
            "\n",
            "Ellaria\n",
            "\n",
            "Daario\n",
            "\n",
            "Missandei\n",
            "\n",
            "Tommen\n",
            "\n",
            "Jaqen\n",
            "\n",
            "Roose\n",
            "\n",
            "The High Sparrow\n",
            "\n"
          ],
          "name": "stdout"
        }
      ]
    },
    {
      "cell_type": "markdown",
      "metadata": {
        "id": "dIohEgjF5g1w",
        "colab_type": "text"
      },
      "source": [
        "# Join"
      ]
    },
    {
      "cell_type": "markdown",
      "metadata": {
        "id": "1GpsQ4yw5g1w",
        "colab_type": "text"
      },
      "source": [
        "The character data we imported has an attribute traits for each character, which is an array of strings. It does not store character features directly however:"
      ]
    },
    {
      "cell_type": "code",
      "metadata": {
        "id": "nQCiCYPR5g1w",
        "colab_type": "code",
        "colab": {
          "base_uri": "https://localhost:8080/",
          "height": 51
        },
        "outputId": "4a2b372c-9634-4e0c-8023-26e9f4021097"
      },
      "source": [
        "find_ned_query = \"\"\"\n",
        "FOR c IN Characters\n",
        "    FILTER c.name == \"Ned\"\n",
        "    RETURN {\"Name\": c.name, \"Traits\": c.traits}\n",
        "\"\"\"\n",
        "query_result = db.AQLQuery(find_ned_query, rawResults=True)\n",
        "for doc in  query_result:\n",
        "    print(doc)\n",
        "    print()"
      ],
      "execution_count": 9,
      "outputs": [
        {
          "output_type": "stream",
          "text": [
            "{'Name': 'Ned', 'Traits': ['A', 'H', 'C', 'N', 'P']}\n",
            "\n"
          ],
          "name": "stdout"
        }
      ]
    },
    {
      "cell_type": "markdown",
      "metadata": {
        "id": "ADz5nV4f5g1y",
        "colab_type": "text"
      },
      "source": [
        "Traits are rather a list of letters without an apparent meaning. The idea here is that traits is supposed to store documents keys of another collection, which we can use to resolve the letters to labels such as “strong”. The benefit of using another collection for the actual traits is, that we can easily query for all existing traits later on and store labels in multiple languages for instance in a central place. If we would embed traits directly…"
      ]
    },
    {
      "cell_type": "code",
      "metadata": {
        "id": "i-69rCzc5g1y",
        "colab_type": "code",
        "colab": {
          "base_uri": "https://localhost:8080/",
          "height": 34
        },
        "outputId": "60925ac2-5e0f-48d6-a7e4-d744b398b343"
      },
      "source": [
        "JSON({\n",
        "    \"Name\": \"Ned\",\n",
        "    \"Traits\": [\n",
        "        {\n",
        "            \"de\": \"stark\",\n",
        "            \"en\": \"strong\"\n",
        "        },\n",
        "        {\n",
        "            \"de\": \"einflussreich\",\n",
        "            \"en\": \"powerful\"\n",
        "        },\n",
        "        {\n",
        "            \"de\": \"loyal\",\n",
        "            \"en\": \"loyal\"\n",
        "        },\n",
        "        {\n",
        "            \"de\": \"rational\",\n",
        "            \"en\": \"rational\"\n",
        "        },\n",
        "        {\n",
        "            \"de\": \"mutig\",\n",
        "            \"en\": \"brave\"\n",
        "        }\n",
        "    ]\n",
        "})"
      ],
      "execution_count": 10,
      "outputs": [
        {
          "output_type": "execute_result",
          "data": {
            "application/json": {
              "Traits": [
                {
                  "de": "stark",
                  "en": "strong"
                },
                {
                  "de": "einflussreich",
                  "en": "powerful"
                },
                {
                  "de": "loyal",
                  "en": "loyal"
                },
                {
                  "de": "rational",
                  "en": "rational"
                },
                {
                  "de": "mutig",
                  "en": "brave"
                }
              ],
              "Name": "Ned"
            },
            "text/plain": [
              "<IPython.core.display.JSON object>"
            ]
          },
          "metadata": {
            "tags": []
          },
          "execution_count": 10
        }
      ]
    },
    {
      "cell_type": "markdown",
      "metadata": {
        "id": "h1Ga1v-G5g10",
        "colab_type": "text"
      },
      "source": [
        "… it becomes really hard to maintain traits. If you were to rename or translate one of them, you would need to find all other character documents with the same trait and perform the changes there too. If we only refer to a trait in another collection, it is as easy as updating a single document."
      ]
    },
    {
      "cell_type": "markdown",
      "metadata": {
        "id": "FT2A99GY5g11",
        "colab_type": "text"
      },
      "source": [
        "![join](https://github.com/joerg84/ArangoDBUniversity/blob/master/img/join.png?raw=1)"
      ]
    },
    {
      "cell_type": "markdown",
      "metadata": {
        "id": "0T1ef7EQ5g11",
        "colab_type": "text"
      },
      "source": [
        "# Traits Collection"
      ]
    },
    {
      "cell_type": "code",
      "metadata": {
        "id": "2vyU7syG5g11",
        "colab_type": "code",
        "colab": {
          "base_uri": "https://localhost:8080/",
          "height": 34
        },
        "outputId": "eb5973e5-d1b0-4614-877f-f06d002e0a90"
      },
      "source": [
        "# Create the Characters Collection \n",
        "db.createCollection(name=\"Traits\")"
      ],
      "execution_count": 11,
      "outputs": [
        {
          "output_type": "execute_result",
          "data": {
            "text/plain": [
              "ArangoDB collection name: Traits, id: 14021950, type: document, status: loaded"
            ]
          },
          "metadata": {
            "tags": []
          },
          "execution_count": 11
        }
      ]
    },
    {
      "cell_type": "code",
      "metadata": {
        "id": "secGKkJl5g14",
        "colab_type": "code",
        "colab": {
          "base_uri": "https://localhost:8080/",
          "height": 34
        },
        "outputId": "644ceaa1-85e9-4d10-eda0-a1d0f839c604"
      },
      "source": [
        "insert_query = \"\"\"\n",
        "LET data = [\n",
        "    { \"_key\": \"A\", \"en\": \"strong\", \"de\": \"stark\" },\n",
        "    { \"_key\": \"B\", \"en\": \"polite\", \"de\": \"freundlich\" },\n",
        "    { \"_key\": \"C\", \"en\": \"loyal\", \"de\": \"loyal\" },\n",
        "    { \"_key\": \"D\", \"en\": \"beautiful\", \"de\": \"schön\" },\n",
        "    { \"_key\": \"E\", \"en\": \"sneaky\", \"de\": \"hinterlistig\" },\n",
        "    { \"_key\": \"F\", \"en\": \"experienced\", \"de\": \"erfahren\" },\n",
        "    { \"_key\": \"G\", \"en\": \"corrupt\", \"de\": \"korrupt\" },\n",
        "    { \"_key\": \"H\", \"en\": \"powerful\", \"de\": \"einflussreich\" },\n",
        "    { \"_key\": \"I\", \"en\": \"naive\", \"de\": \"naiv\" },\n",
        "    { \"_key\": \"J\", \"en\": \"unmarried\", \"de\": \"unverheiratet\" },\n",
        "    { \"_key\": \"K\", \"en\": \"skillful\", \"de\": \"geschickt\" },\n",
        "    { \"_key\": \"L\", \"en\": \"young\", \"de\": \"jung\" },\n",
        "    { \"_key\": \"M\", \"en\": \"smart\", \"de\": \"klug\" },\n",
        "    { \"_key\": \"N\", \"en\": \"rational\", \"de\": \"rational\" },\n",
        "    { \"_key\": \"O\", \"en\": \"ruthless\", \"de\": \"skrupellos\" },\n",
        "    { \"_key\": \"P\", \"en\": \"brave\", \"de\": \"mutig\" },\n",
        "    { \"_key\": \"Q\", \"en\": \"mighty\", \"de\": \"mächtig\" },\n",
        "    { \"_key\": \"R\", \"en\": \"weak\", \"de\": \"schwach\" }\n",
        "]\n",
        "  \n",
        "\n",
        "FOR d IN data\n",
        "    INSERT d INTO Traits\n",
        "\"\"\"\n",
        "\n",
        "db.AQLQuery(insert_query)"
      ],
      "execution_count": 12,
      "outputs": [
        {
          "output_type": "execute_result",
          "data": {
            "text/plain": [
              "<pyArango.query.AQLQuery at 0x7fca6de4ef60>"
            ]
          },
          "metadata": {
            "tags": []
          },
          "execution_count": 12
        }
      ]
    },
    {
      "cell_type": "markdown",
      "metadata": {
        "id": "eZ8quDDI5g16",
        "colab_type": "text"
      },
      "source": [
        "Let us quickly check the contents of the Traits collection:"
      ]
    },
    {
      "cell_type": "code",
      "metadata": {
        "id": "Dq2VAiZg5g16",
        "colab_type": "code",
        "colab": {
          "base_uri": "https://localhost:8080/",
          "height": 629
        },
        "outputId": "2be3afe3-adca-4394-c9f0-c49a8609324c"
      },
      "source": [
        "all_traits = \"\"\"\n",
        "FOR t IN Traits\n",
        "    RETURN t\n",
        "\"\"\"\n",
        "\n",
        "query_result = db.AQLQuery(all_traits, rawResults=True)\n",
        "for doc in  query_result:\n",
        "    print(doc)\n",
        "    print()"
      ],
      "execution_count": 13,
      "outputs": [
        {
          "output_type": "stream",
          "text": [
            "{'_key': 'A', '_id': 'Traits/A', '_rev': '_apll4-q---', 'en': 'strong', 'de': 'stark'}\n",
            "\n",
            "{'_key': 'B', '_id': 'Traits/B', '_rev': '_apll4-q--_', 'en': 'polite', 'de': 'freundlich'}\n",
            "\n",
            "{'_key': 'C', '_id': 'Traits/C', '_rev': '_apll4-q--A', 'en': 'loyal', 'de': 'loyal'}\n",
            "\n",
            "{'_key': 'D', '_id': 'Traits/D', '_rev': '_apll4-q--C', 'en': 'beautiful', 'de': 'schön'}\n",
            "\n",
            "{'_key': 'E', '_id': 'Traits/E', '_rev': '_apll4-q--D', 'en': 'sneaky', 'de': 'hinterlistig'}\n",
            "\n",
            "{'_key': 'F', '_id': 'Traits/F', '_rev': '_apll4-q--E', 'en': 'experienced', 'de': 'erfahren'}\n",
            "\n",
            "{'_key': 'G', '_id': 'Traits/G', '_rev': '_apll4-q--F', 'en': 'corrupt', 'de': 'korrupt'}\n",
            "\n",
            "{'_key': 'H', '_id': 'Traits/H', '_rev': '_apll4-q--G', 'en': 'powerful', 'de': 'einflussreich'}\n",
            "\n",
            "{'_key': 'I', '_id': 'Traits/I', '_rev': '_apll4-q--H', 'en': 'naive', 'de': 'naiv'}\n",
            "\n",
            "{'_key': 'J', '_id': 'Traits/J', '_rev': '_apll4-q--I', 'en': 'unmarried', 'de': 'unverheiratet'}\n",
            "\n",
            "{'_key': 'K', '_id': 'Traits/K', '_rev': '_apll4-q--J', 'en': 'skillful', 'de': 'geschickt'}\n",
            "\n",
            "{'_key': 'L', '_id': 'Traits/L', '_rev': '_apll4-q--K', 'en': 'young', 'de': 'jung'}\n",
            "\n",
            "{'_key': 'M', '_id': 'Traits/M', '_rev': '_apll4-q--L', 'en': 'smart', 'de': 'klug'}\n",
            "\n",
            "{'_key': 'N', '_id': 'Traits/N', '_rev': '_apll4-q--M', 'en': 'rational', 'de': 'rational'}\n",
            "\n",
            "{'_key': 'O', '_id': 'Traits/O', '_rev': '_apll4-q--N', 'en': 'ruthless', 'de': 'skrupellos'}\n",
            "\n",
            "{'_key': 'P', '_id': 'Traits/P', '_rev': '_apll4-u---', 'en': 'brave', 'de': 'mutig'}\n",
            "\n",
            "{'_key': 'Q', '_id': 'Traits/Q', '_rev': '_apll4-u--_', 'en': 'mighty', 'de': 'mächtig'}\n",
            "\n",
            "{'_key': 'R', '_id': 'Traits/R', '_rev': '_apll4-u--A', 'en': 'weak', 'de': 'schwach'}\n",
            "\n"
          ],
          "name": "stdout"
        }
      ]
    },
    {
      "cell_type": "markdown",
      "metadata": {
        "id": "wmEjlg6K5g18",
        "colab_type": "text"
      },
      "source": [
        "# Joining Traits"
      ]
    },
    {
      "cell_type": "markdown",
      "metadata": {
        "id": "ZLt-K97D5g18",
        "colab_type": "text"
      },
      "source": [
        "Let’s start simple by returning only the traits attribute of each character:"
      ]
    },
    {
      "cell_type": "code",
      "metadata": {
        "id": "IvtbHS4C5g18",
        "colab_type": "code",
        "colab": {
          "base_uri": "https://localhost:8080/",
          "height": 1000
        },
        "outputId": "0f47bed1-dc00-4dd6-d64c-6045db2c23d0"
      },
      "source": [
        "all_characters_traits = \"\"\"\n",
        "FOR c IN Characters\n",
        "    RETURN c.traits\n",
        "\"\"\"\n",
        "\n",
        "query_result = db.AQLQuery(all_characters_traits, rawResults=True)\n",
        "for doc in  query_result:\n",
        "    print(doc)\n",
        "    print()"
      ],
      "execution_count": 14,
      "outputs": [
        {
          "output_type": "stream",
          "text": [
            "['A', 'H', 'C', 'N', 'P']\n",
            "\n",
            "['A', 'H', 'C']\n",
            "\n",
            "['A', 'F', 'B']\n",
            "\n",
            "['D', 'H', 'C']\n",
            "\n",
            "['H', 'E', 'F']\n",
            "\n",
            "['D', 'H', 'C']\n",
            "\n",
            "['A', 'B', 'C', 'F']\n",
            "\n",
            "['E', 'G', 'F']\n",
            "\n",
            "['O', 'L', 'N']\n",
            "\n",
            "['A', 'B', 'C', 'F']\n",
            "\n",
            "['D', 'I', 'J']\n",
            "\n",
            "['C', 'K', 'L']\n",
            "\n",
            "['A', 'B', 'C', 'K']\n",
            "\n",
            "['E', 'R', 'K']\n",
            "\n",
            "['L', 'J']\n",
            "\n",
            "['I', 'L', 'O']\n",
            "\n",
            "['A', 'P', 'K', 'F']\n",
            "\n",
            "['F', 'K', 'M', 'N']\n",
            "\n",
            "['A', 'C', 'O', 'P']\n",
            "\n",
            "['O', 'M', 'H', 'F']\n",
            "\n",
            "['C', 'K', 'P', 'F']\n",
            "\n",
            "['C', 'L', 'I']\n",
            "\n",
            "['H', 'O', 'P', 'M']\n",
            "\n",
            "['G', 'E', 'H']\n",
            "\n",
            "['M', 'D', 'B']\n",
            "\n",
            "['C', 'H', 'M', 'P']\n",
            "\n",
            "['K', 'E', 'C']\n",
            "\n",
            "['M', 'F', 'N', 'E']\n",
            "\n",
            "['M', 'D', 'G']\n",
            "\n",
            "['D', 'C', 'B']\n",
            "\n",
            "['K', 'C', 'A']\n",
            "\n",
            "['A', 'P', 'K']\n",
            "\n",
            "['C', 'P', 'A', 'I']\n",
            "\n",
            "['L', 'J']\n",
            "\n",
            "['P', 'C', 'A', 'K']\n",
            "\n",
            "['E', 'O', 'G', 'A']\n",
            "\n",
            "['P', 'O', 'A', 'E']\n",
            "\n",
            "['K', 'P', 'A']\n",
            "\n",
            "['D', 'L', 'C', 'M']\n",
            "\n",
            "['I', 'L', 'B']\n",
            "\n",
            "['H', 'F', 'K']\n",
            "\n",
            "['H', 'E', 'F', 'A']\n",
            "\n",
            "['H', 'M', 'F', 'O']\n",
            "\n"
          ],
          "name": "stdout"
        }
      ]
    },
    {
      "cell_type": "markdown",
      "metadata": {
        "id": "-iZcXn6v5g1-",
        "colab_type": "text"
      },
      "source": [
        "We can use the traits array together with the [DOCUMENT()](https://www.arangodb.com/docs/stable/aql/functions-miscellaneous.html#document) function to use the elements as document keys and look them up in the Traits collection.\n",
        "The DOCUMENT() function can be used to look up a single or multiple documents via document identifiers. In our example, we pass the collection name from which we want to fetch documents as the first argument (\"Traits\") and an array of document keys (_key attribute) as the second argument. In the [RETURN](https://www.arangodb.com/docs/stable/aql/operations-return.html) statement we get an array of the full trait documents for each character."
      ]
    },
    {
      "cell_type": "code",
      "metadata": {
        "id": "ovrgE2ZM5g1-",
        "colab_type": "code",
        "colab": {
          "base_uri": "https://localhost:8080/",
          "height": 207
        },
        "outputId": "7cbf36f9-ed74-462a-b4e8-20de99b87fa2"
      },
      "source": [
        "all_characters_traits = \"\"\"\n",
        "FOR c IN Characters\n",
        "    LIMIT 5\n",
        "    RETURN DOCUMENT(\"Traits\", c.traits)\n",
        "\"\"\"\n",
        "\n",
        "query_result = db.AQLQuery(all_characters_traits, rawResults=True)\n",
        "for doc in  query_result:\n",
        "    print(doc)\n",
        "    print()"
      ],
      "execution_count": 15,
      "outputs": [
        {
          "output_type": "stream",
          "text": [
            "[{'_key': 'A', '_id': 'Traits/A', '_rev': '_apll4-q---', 'en': 'strong', 'de': 'stark'}, {'_key': 'H', '_id': 'Traits/H', '_rev': '_apll4-q--G', 'en': 'powerful', 'de': 'einflussreich'}, {'_key': 'C', '_id': 'Traits/C', '_rev': '_apll4-q--A', 'en': 'loyal', 'de': 'loyal'}, {'_key': 'N', '_id': 'Traits/N', '_rev': '_apll4-q--M', 'en': 'rational', 'de': 'rational'}, {'_key': 'P', '_id': 'Traits/P', '_rev': '_apll4-u---', 'en': 'brave', 'de': 'mutig'}]\n",
            "\n",
            "[{'_key': 'A', '_id': 'Traits/A', '_rev': '_apll4-q---', 'en': 'strong', 'de': 'stark'}, {'_key': 'H', '_id': 'Traits/H', '_rev': '_apll4-q--G', 'en': 'powerful', 'de': 'einflussreich'}, {'_key': 'C', '_id': 'Traits/C', '_rev': '_apll4-q--A', 'en': 'loyal', 'de': 'loyal'}]\n",
            "\n",
            "[{'_key': 'A', '_id': 'Traits/A', '_rev': '_apll4-q---', 'en': 'strong', 'de': 'stark'}, {'_key': 'F', '_id': 'Traits/F', '_rev': '_apll4-q--E', 'en': 'experienced', 'de': 'erfahren'}, {'_key': 'B', '_id': 'Traits/B', '_rev': '_apll4-q--_', 'en': 'polite', 'de': 'freundlich'}]\n",
            "\n",
            "[{'_key': 'D', '_id': 'Traits/D', '_rev': '_apll4-q--C', 'en': 'beautiful', 'de': 'schön'}, {'_key': 'H', '_id': 'Traits/H', '_rev': '_apll4-q--G', 'en': 'powerful', 'de': 'einflussreich'}, {'_key': 'C', '_id': 'Traits/C', '_rev': '_apll4-q--A', 'en': 'loyal', 'de': 'loyal'}]\n",
            "\n",
            "[{'_key': 'H', '_id': 'Traits/H', '_rev': '_apll4-q--G', 'en': 'powerful', 'de': 'einflussreich'}, {'_key': 'E', '_id': 'Traits/E', '_rev': '_apll4-q--D', 'en': 'sneaky', 'de': 'hinterlistig'}, {'_key': 'F', '_id': 'Traits/F', '_rev': '_apll4-q--E', 'en': 'experienced', 'de': 'erfahren'}]\n",
            "\n"
          ],
          "name": "stdout"
        }
      ]
    },
    {
      "cell_type": "markdown",
      "metadata": {
        "id": "Eoqg6BWg5g2A",
        "colab_type": "text"
      },
      "source": [
        "This is a bit too much information, so let’s only return English labels using the array expansion notation:"
      ]
    },
    {
      "cell_type": "code",
      "metadata": {
        "id": "R4xYixwW5g2A",
        "colab_type": "code",
        "colab": {
          "base_uri": "https://localhost:8080/",
          "height": 187
        },
        "outputId": "a991e235-99d0-4120-ee98-b1d6de6edf99"
      },
      "source": [
        "all_characters_traits = \"\"\"\n",
        "FOR c IN Characters\n",
        "    LIMIT 5\n",
        "    RETURN DOCUMENT(\"Traits\", c.traits)[*].en\n",
        "\"\"\"\n",
        "\n",
        "query_result = db.AQLQuery(all_characters_traits, rawResults=True)\n",
        "for doc in  query_result:\n",
        "    print(doc)\n",
        "    print()"
      ],
      "execution_count": 16,
      "outputs": [
        {
          "output_type": "stream",
          "text": [
            "['strong', 'powerful', 'loyal', 'rational', 'brave']\n",
            "\n",
            "['strong', 'powerful', 'loyal']\n",
            "\n",
            "['strong', 'experienced', 'polite']\n",
            "\n",
            "['beautiful', 'powerful', 'loyal']\n",
            "\n",
            "['powerful', 'sneaky', 'experienced']\n",
            "\n"
          ],
          "name": "stdout"
        }
      ]
    },
    {
      "cell_type": "markdown",
      "metadata": {
        "id": "MMjFdn4T5g2C",
        "colab_type": "text"
      },
      "source": [
        "# Combining Characters and Traits"
      ]
    },
    {
      "cell_type": "markdown",
      "metadata": {
        "id": "UmqgvNIR5g2C",
        "colab_type": "text"
      },
      "source": [
        "Great, we resolved the letters to meaningful traits! But we also need to know to which character they belong. Thus, we need to merge both the character document and the data from the trait documents:\n",
        "\n"
      ]
    },
    {
      "cell_type": "code",
      "metadata": {
        "id": "dwsMpe6u5g2C",
        "colab_type": "code",
        "colab": {
          "base_uri": "https://localhost:8080/",
          "height": 187
        },
        "outputId": "9b6ed28c-8dd8-400f-8f8f-a6fe0586f918"
      },
      "source": [
        "all_characters_traits = \"\"\"\n",
        "FOR c IN Characters\n",
        "    LIMIT 5\n",
        "    RETURN MERGE(c, { traits: DOCUMENT(\"Traits\", c.traits)[*].en } )\n",
        "\"\"\"\n",
        "\n",
        "query_result = db.AQLQuery(all_characters_traits, rawResults=True)\n",
        "for doc in  query_result:\n",
        "    print(doc)\n",
        "    print()    "
      ],
      "execution_count": 17,
      "outputs": [
        {
          "output_type": "stream",
          "text": [
            "{'_id': 'Characters/1026018918', '_key': '1026018918', '_rev': '_aplllqi---', 'age': 41, 'alive': True, 'name': 'Ned', 'surname': 'Stark', 'traits': ['strong', 'powerful', 'loyal', 'rational', 'brave']}\n",
            "\n",
            "{'_id': 'Characters/1026018919', '_key': '1026018919', '_rev': '_aplllqi--_', 'alive': False, 'name': 'Robert', 'surname': 'Baratheon', 'traits': ['strong', 'powerful', 'loyal']}\n",
            "\n",
            "{'_id': 'Characters/1026018920', '_key': '1026018920', '_rev': '_aplllqi--A', 'age': 36, 'alive': True, 'name': 'Jaime', 'surname': 'Lannister', 'traits': ['strong', 'experienced', 'polite']}\n",
            "\n",
            "{'_id': 'Characters/1026018921', '_key': '1026018921', '_rev': '_aplllqi--B', 'age': 40, 'alive': False, 'name': 'Catelyn', 'surname': 'Stark', 'traits': ['beautiful', 'powerful', 'loyal']}\n",
            "\n",
            "{'_id': 'Characters/1026018922', '_key': '1026018922', '_rev': '_aplllqi--C', 'age': 36, 'alive': True, 'name': 'Cersei', 'surname': 'Lannister', 'traits': ['powerful', 'sneaky', 'experienced']}\n",
            "\n"
          ],
          "name": "stdout"
        }
      ]
    },
    {
      "cell_type": "markdown",
      "metadata": {
        "id": "fkD065y55g2E",
        "colab_type": "text"
      },
      "source": [
        "The [MERGE()](https://www.arangodb.com/docs/stable/aql/functions-document.html#merge) functions merges objects together. Because we used an object { traits: ... } which has the same attribute name traits as the original character attribute, the latter got overwritten by the merge operation."
      ]
    },
    {
      "cell_type": "markdown",
      "metadata": {
        "id": "GJIK-_iS5g2E",
        "colab_type": "text"
      },
      "source": [
        "# Joining Characters and Traits"
      ]
    },
    {
      "cell_type": "markdown",
      "metadata": {
        "id": "ODQnNQrz5g2E",
        "colab_type": "text"
      },
      "source": [
        "The DOCUMENT() function utilizes primary indices to look up documents quickly. It is limited to find documents via their identifiers however. For a use case like in our example it is sufficient to accomplish a simple join.\n",
        "\n",
        "There is another, more flexible syntax for joins: nested [FOR](https://www.arangodb.com/docs/stable/aql/operations-for.html) loops over multiple collections, with a [FILTER](https://www.arangodb.com/docs/stable/aql/operations-filter.html) condition to match up attributes. In case of the traits key array, there needs to be a third loop to iterate over the keys:"
      ]
    },
    {
      "cell_type": "code",
      "metadata": {
        "id": "CpbzqCVf5g2E",
        "colab_type": "code",
        "colab": {
          "base_uri": "https://localhost:8080/",
          "height": 187
        },
        "outputId": "d1ad00d9-ae63-425d-b1e5-02dc06980678"
      },
      "source": [
        "all_characters_traits = \"\"\"\n",
        "FOR c IN Characters\n",
        "  LIMIT 5\n",
        "  RETURN MERGE(c, {\n",
        "    traits: (\n",
        "      FOR key IN c.traits\n",
        "        FOR t IN Traits\n",
        "          FILTER t._key == key\n",
        "          RETURN t.en\n",
        "    )\n",
        "  })\n",
        "\"\"\"\n",
        "\n",
        "query_result = db.AQLQuery(all_characters_traits, rawResults=True)\n",
        "for doc in  query_result:\n",
        "    print(doc)\n",
        "    print()    "
      ],
      "execution_count": 18,
      "outputs": [
        {
          "output_type": "stream",
          "text": [
            "{'_id': 'Characters/1026018918', '_key': '1026018918', '_rev': '_aplllqi---', 'age': 41, 'alive': True, 'name': 'Ned', 'surname': 'Stark', 'traits': ['strong', 'powerful', 'loyal', 'rational', 'brave']}\n",
            "\n",
            "{'_id': 'Characters/1026018919', '_key': '1026018919', '_rev': '_aplllqi--_', 'alive': False, 'name': 'Robert', 'surname': 'Baratheon', 'traits': ['strong', 'powerful', 'loyal']}\n",
            "\n",
            "{'_id': 'Characters/1026018920', '_key': '1026018920', '_rev': '_aplllqi--A', 'age': 36, 'alive': True, 'name': 'Jaime', 'surname': 'Lannister', 'traits': ['strong', 'experienced', 'polite']}\n",
            "\n",
            "{'_id': 'Characters/1026018921', '_key': '1026018921', '_rev': '_aplllqi--B', 'age': 40, 'alive': False, 'name': 'Catelyn', 'surname': 'Stark', 'traits': ['beautiful', 'powerful', 'loyal']}\n",
            "\n",
            "{'_id': 'Characters/1026018922', '_key': '1026018922', '_rev': '_aplllqi--C', 'age': 36, 'alive': True, 'name': 'Cersei', 'surname': 'Lannister', 'traits': ['powerful', 'sneaky', 'experienced']}\n",
            "\n"
          ],
          "name": "stdout"
        }
      ]
    },
    {
      "cell_type": "markdown",
      "metadata": {
        "id": "SzQ0IXYF5g2G",
        "colab_type": "text"
      },
      "source": [
        "For each character, it loops over its traits attribute (e.g. [\"D\",\"H\",\"C\"]) and for each document reference in this array, it loops over the Traits collections. There is a condition to match the document key with the key reference. The inner FOR loop and the FILTER get transformed to a primary index lookup in this case instead of building up a Cartesian product only to filter away everything but a single match: Document keys within a collection are unique, thus there can only be one match.\n",
        "\n",
        "Each written-out, English trait is returned and all the traits are then merged with the character document. The result is identical to the query using DOCUMENT(). However, this approach with a nested FOR loop and a FILTER is not limited to primary keys. You can do this with any other attribute as well. For an efficient lookup, make sure you add a hash index for this attribute. If its values are unique, then also set the index option to unique."
      ]
    },
    {
      "cell_type": "markdown",
      "metadata": {
        "id": "kdk-BKLU5g2G",
        "colab_type": "text"
      },
      "source": [
        "# Next Steps"
      ]
    },
    {
      "cell_type": "markdown",
      "metadata": {
        "id": "Fp8b51bP5g2G",
        "colab_type": "text"
      },
      "source": [
        "To continue playing and working with ArangoDB beyond the temporary database, you can:\n",
        "\n",
        "* [Get a 2 week free Trial with the ArangoDB Cloud](https://cloud.arangodb.com/home?utm_source=AQLJoin&utm_medium=Github&utm_campaign=ArangoDB%20University)\n",
        "* [Download ArangoDB](https://www.arangodb.com/download-major/)\n",
        "* Keep Learning at thttps://www.arangodb.com/arangodb-training-center/"
      ]
    },
    {
      "cell_type": "markdown",
      "metadata": {
        "id": "v-i5dPvY5g2H",
        "colab_type": "text"
      },
      "source": [
        "# Further Links"
      ]
    },
    {
      "cell_type": "markdown",
      "metadata": {
        "id": "T5GVL3tt5g2H",
        "colab_type": "text"
      },
      "source": [
        "* https://www.arangodb.com/docs/stable/aql/tutorial.html"
      ]
    }
  ]
}