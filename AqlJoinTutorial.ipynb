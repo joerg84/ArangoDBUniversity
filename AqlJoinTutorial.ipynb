{
 "cells": [
  {
   "cell_type": "markdown",
   "metadata": {},
   "source": [
    "![arangodb](img/ArangoDB_logo.png)"
   ]
  },
  {
   "cell_type": "markdown",
   "metadata": {},
   "source": [
    "# AQL Join Tutorial"
   ]
  },
  {
   "cell_type": "markdown",
   "metadata": {},
   "source": [
    "<a href=\"https://colab.research.google.com/github/joerg84/ArangoDBUniversity/blob/master/AqlJoinTutorial.ipynb\" target=\"_parent\"><img src=\"https://colab.research.google.com/assets/colab-badge.svg\" alt=\"Open In Colab\"/></a>"
   ]
  },
  {
   "cell_type": "markdown",
   "metadata": {},
   "source": [
    "In the previous parts of this AQL tutorial series, we have already covered a number of topics:\n",
    "* [Part 1: CRUD](https://colab.research.google.com/github/joerg84/ArangoDBUniversity/blob/master/AqlCrudTutorial.ipynb) \n",
    "* [Part 2: Limit, Sort, Filter](https://colab.research.google.com/github/joerg84/ArangoDBUniversity/blob/master/AqlPart2Tutorial.ipynb)\n",
    "\n",
    "In this part we cover how we can combine (aka join) information from multiple documents.\n",
    "\n",
    "\n",
    "Recall, that in addition to the python interface, you can interact with ArangoDB using its web interface to manage collections and execute the queries.\n",
    "This notebook creates a temporary database, so you can perform all queries in this notebook or use the URL provided to you below to access the web interface."
   ]
  },
  {
   "cell_type": "markdown",
   "metadata": {},
   "source": [
    "# Setup "
   ]
  },
  {
   "cell_type": "markdown",
   "metadata": {},
   "source": [
    "Before getting started with ArangoDB we need to prepare our environment and create a temporary database on ArangoDB's managed Service Oasis."
   ]
  },
  {
   "cell_type": "code",
   "execution_count": null,
   "metadata": {},
   "outputs": [],
   "source": [
    "%%capture\n",
    "!git clone https://github.com/joerg84/ArangoDBUniversity.git\n",
    "!rsync -av ArangoDBUniversity/ ./ --exclude=.git\n",
    "!pip3 install pyarango\n",
    "!pip3 install \"python-arango>=5.0\""
   ]
  },
  {
   "cell_type": "code",
   "execution_count": null,
   "metadata": {},
   "outputs": [],
   "source": [
    "import json\n",
    "import requests\n",
    "import sys\n",
    "import oasis\n",
    "import time\n",
    "from IPython.display import JSON\n",
    "\n",
    "from pyArango.connection import *\n",
    "from arango import ArangoClient"
   ]
  },
  {
   "cell_type": "markdown",
   "metadata": {},
   "source": [
    "Create the temporary database:"
   ]
  },
  {
   "cell_type": "code",
   "execution_count": null,
   "metadata": {},
   "outputs": [],
   "source": [
    "# Retrieve tmp credentials from ArangoDB Tutorial Service\n",
    "login = oasis.getTempCredentials(tutorialName=\"AqlJoinTutorial\", credentialProvider='https://tutorials.arangodb.cloud:8529/_db/_system/tutorialDB/tutorialDB')\n",
    "\n",
    "# Connect to the temp database\n",
    "conn = oasis.connect(login)\n",
    "db = conn[login[\"dbName\"]] "
   ]
  },
  {
   "cell_type": "code",
   "execution_count": null,
   "metadata": {},
   "outputs": [],
   "source": [
    "print(\"https://{}:{}\".format(login[\"hostname\"], login[\"port\"]))\n",
    "print(\"Username: \" + login[\"username\"])\n",
    "print(\"Password: \" + login[\"password\"])\n",
    "print(\"Database: \" + login[\"dbName\"])"
   ]
  },
  {
   "cell_type": "markdown",
   "metadata": {},
   "source": [
    "Feel free to use to above URL to checkout the UI!"
   ]
  },
  {
   "cell_type": "markdown",
   "metadata": {},
   "source": [
    "##  Import Data"
   ]
  },
  {
   "cell_type": "markdown",
   "metadata": {},
   "source": [
    "We will work with the same dataset as in the [first part of this tutorial](https://colab.research.google.com/github/joerg84/ArangoDBUniversity/blob/master/AqlCrudTutorial.ipynb). So let us quickly import that into our temporary database. "
   ]
  },
  {
   "cell_type": "code",
   "execution_count": null,
   "metadata": {},
   "outputs": [],
   "source": [
    "# Create the Characters Collection \n",
    "db.createCollection(name=\"Characters\")"
   ]
  },
  {
   "cell_type": "code",
   "execution_count": null,
   "metadata": {},
   "outputs": [],
   "source": [
    "insert_query = \"\"\"\n",
    "LET data = [\n",
    "    { \"name\": \"Ned\", \"surname\": \"Stark\", \"alive\": true, \"age\": 41, \"traits\": [\"A\",\"H\",\"C\",\"N\",\"P\"] },\n",
    "    { \"name\": \"Robert\", \"surname\": \"Baratheon\", \"alive\": false, \"traits\": [\"A\",\"H\",\"C\"] },\n",
    "    { \"name\": \"Jaime\", \"surname\": \"Lannister\", \"alive\": true, \"age\": 36, \"traits\": [\"A\",\"F\",\"B\"] },\n",
    "    { \"name\": \"Catelyn\", \"surname\": \"Stark\", \"alive\": false, \"age\": 40, \"traits\": [\"D\",\"H\",\"C\"] },\n",
    "    { \"name\": \"Cersei\", \"surname\": \"Lannister\", \"alive\": true, \"age\": 36, \"traits\": [\"H\",\"E\",\"F\"] },\n",
    "    { \"name\": \"Daenerys\", \"surname\": \"Targaryen\", \"alive\": true, \"age\": 16, \"traits\": [\"D\",\"H\",\"C\"] },\n",
    "    { \"name\": \"Jorah\", \"surname\": \"Mormont\", \"alive\": false, \"traits\": [\"A\",\"B\",\"C\",\"F\"] },\n",
    "    { \"name\": \"Petyr\", \"surname\": \"Baelish\", \"alive\": false, \"traits\": [\"E\",\"G\",\"F\"] },\n",
    "    { \"name\": \"Viserys\", \"surname\": \"Targaryen\", \"alive\": false, \"traits\": [\"O\",\"L\",\"N\"] },\n",
    "    { \"name\": \"Jon\", \"surname\": \"Snow\", \"alive\": true, \"age\": 16, \"traits\": [\"A\",\"B\",\"C\",\"F\"] },\n",
    "    { \"name\": \"Sansa\", \"surname\": \"Stark\", \"alive\": true, \"age\": 13, \"traits\": [\"D\",\"I\",\"J\"] },\n",
    "    { \"name\": \"Arya\", \"surname\": \"Stark\", \"alive\": true, \"age\": 11, \"traits\": [\"C\",\"K\",\"L\"] },\n",
    "    { \"name\": \"Robb\", \"surname\": \"Stark\", \"alive\": false, \"traits\": [\"A\",\"B\",\"C\",\"K\"] },\n",
    "    { \"name\": \"Theon\", \"surname\": \"Greyjoy\", \"alive\": true, \"age\": 16, \"traits\": [\"E\",\"R\",\"K\"] },\n",
    "    { \"name\": \"Bran\", \"surname\": \"Stark\", \"alive\": true, \"age\": 10, \"traits\": [\"L\",\"J\"] },\n",
    "    { \"name\": \"Joffrey\", \"surname\": \"Baratheon\", \"alive\": false, \"age\": 19, \"traits\": [\"I\",\"L\",\"O\"] },\n",
    "    { \"name\": \"Sandor\", \"surname\": \"Clegane\", \"alive\": true, \"traits\": [\"A\",\"P\",\"K\",\"F\"] },\n",
    "    { \"name\": \"Tyrion\", \"surname\": \"Lannister\", \"alive\": true, \"age\": 32, \"traits\": [\"F\",\"K\",\"M\",\"N\"] },\n",
    "    { \"name\": \"Khal\", \"surname\": \"Drogo\", \"alive\": false, \"traits\": [\"A\",\"C\",\"O\",\"P\"] },\n",
    "    { \"name\": \"Tywin\", \"surname\": \"Lannister\", \"alive\": false, \"traits\": [\"O\",\"M\",\"H\",\"F\"] },\n",
    "    { \"name\": \"Davos\", \"surname\": \"Seaworth\", \"alive\": true, \"age\": 49, \"traits\": [\"C\",\"K\",\"P\",\"F\"] },\n",
    "    { \"name\": \"Samwell\", \"surname\": \"Tarly\", \"alive\": true, \"age\": 17, \"traits\": [\"C\",\"L\",\"I\"] },\n",
    "    { \"name\": \"Stannis\", \"surname\": \"Baratheon\", \"alive\": false, \"traits\": [\"H\",\"O\",\"P\",\"M\"] },\n",
    "    { \"name\": \"Melisandre\", \"alive\": true, \"traits\": [\"G\",\"E\",\"H\"] },\n",
    "    { \"name\": \"Margaery\", \"surname\": \"Tyrell\", \"alive\": false, \"traits\": [\"M\",\"D\",\"B\"] },\n",
    "    { \"name\": \"Jeor\", \"surname\": \"Mormont\", \"alive\": false, \"traits\": [\"C\",\"H\",\"M\",\"P\"] },\n",
    "    { \"name\": \"Bronn\", \"alive\": true, \"traits\": [\"K\",\"E\",\"C\"] },\n",
    "    { \"name\": \"Varys\", \"alive\": true, \"traits\": [\"M\",\"F\",\"N\",\"E\"] },\n",
    "    { \"name\": \"Shae\", \"alive\": false, \"traits\": [\"M\",\"D\",\"G\"] },\n",
    "    { \"name\": \"Talisa\", \"surname\": \"Maegyr\", \"alive\": false, \"traits\": [\"D\",\"C\",\"B\"] },\n",
    "    { \"name\": \"Gendry\", \"alive\": false, \"traits\": [\"K\",\"C\",\"A\"] },\n",
    "    { \"name\": \"Ygritte\", \"alive\": false, \"traits\": [\"A\",\"P\",\"K\"] },\n",
    "    { \"name\": \"Tormund\", \"surname\": \"Giantsbane\", \"alive\": true, \"traits\": [\"C\",\"P\",\"A\",\"I\"] },\n",
    "    { \"name\": \"Gilly\", \"alive\": true, \"traits\": [\"L\",\"J\"] },\n",
    "    { \"name\": \"Brienne\", \"surname\": \"Tarth\", \"alive\": true, \"age\": 32, \"traits\": [\"P\",\"C\",\"A\",\"K\"] },\n",
    "    { \"name\": \"Ramsay\", \"surname\": \"Bolton\", \"alive\": true, \"traits\": [\"E\",\"O\",\"G\",\"A\"] },\n",
    "    { \"name\": \"Ellaria\", \"surname\": \"Sand\", \"alive\": true, \"traits\": [\"P\",\"O\",\"A\",\"E\"] },\n",
    "    { \"name\": \"Daario\", \"surname\": \"Naharis\", \"alive\": true, \"traits\": [\"K\",\"P\",\"A\"] },\n",
    "    { \"name\": \"Missandei\", \"alive\": true, \"traits\": [\"D\",\"L\",\"C\",\"M\"] },\n",
    "    { \"name\": \"Tommen\", \"surname\": \"Baratheon\", \"alive\": true, \"traits\": [\"I\",\"L\",\"B\"] },\n",
    "    { \"name\": \"Jaqen\", \"surname\": \"H'ghar\", \"alive\": true, \"traits\": [\"H\",\"F\",\"K\"] },\n",
    "    { \"name\": \"Roose\", \"surname\": \"Bolton\", \"alive\": true, \"traits\": [\"H\",\"E\",\"F\",\"A\"] },\n",
    "    { \"name\": \"The High Sparrow\", \"alive\": true, \"traits\": [\"H\",\"M\",\"F\",\"O\"] }\n",
    "]\n",
    "\n",
    "FOR d IN data\n",
    "    INSERT d INTO Characters\n",
    "\"\"\"\n",
    "\n",
    "db.AQLQuery(insert_query)"
   ]
  },
  {
   "cell_type": "markdown",
   "metadata": {},
   "source": [
    "As before, let us check the `Characters` collection:"
   ]
  },
  {
   "cell_type": "code",
   "execution_count": null,
   "metadata": {},
   "outputs": [],
   "source": [
    "all_characters_names = \"\"\"\n",
    "FOR c IN Characters\n",
    "    RETURN c.name\n",
    "\"\"\"\n",
    "\n",
    "query_result = db.AQLQuery(all_characters_names, rawResults=True)\n",
    "for doc in  query_result:\n",
    "    print(doc)\n",
    "    print()"
   ]
  },
  {
   "cell_type": "markdown",
   "metadata": {},
   "source": [
    "# Join"
   ]
  },
  {
   "cell_type": "markdown",
   "metadata": {},
   "source": [
    "The character data we imported has an attribute traits for each character, which is an array of strings. It does not store character features directly however:"
   ]
  },
  {
   "cell_type": "code",
   "execution_count": null,
   "metadata": {},
   "outputs": [],
   "source": [
    "find_ned_query = \"\"\"\n",
    "FOR c IN Characters\n",
    "    FILTER c.name == \"Ned\"\n",
    "    RETURN {\"Name\": c.name, \"Traits\": c.traits}\n",
    "\"\"\"\n",
    "query_result = db.AQLQuery(find_ned_query, rawResults=True)\n",
    "for doc in  query_result:\n",
    "    print(doc)\n",
    "    print()"
   ]
  },
  {
   "cell_type": "markdown",
   "metadata": {},
   "source": [
    "Traits are rather a list of letters without an apparent meaning. The idea here is that traits is supposed to store documents keys of another collection, which we can use to resolve the letters to labels such as “strong”. The benefit of using another collection for the actual traits is, that we can easily query for all existing traits later on and store labels in multiple languages for instance in a central place. If we would embed traits directly…"
   ]
  },
  {
   "cell_type": "code",
   "execution_count": null,
   "metadata": {},
   "outputs": [],
   "source": [
    "JSON({\n",
    "    \"Name\": \"Ned\",\n",
    "    \"Traits\": [\n",
    "        {\n",
    "            \"de\": \"stark\",\n",
    "            \"en\": \"strong\"\n",
    "        },\n",
    "        {\n",
    "            \"de\": \"einflussreich\",\n",
    "            \"en\": \"powerful\"\n",
    "        },\n",
    "        {\n",
    "            \"de\": \"loyal\",\n",
    "            \"en\": \"loyal\"\n",
    "        },\n",
    "        {\n",
    "            \"de\": \"rational\",\n",
    "            \"en\": \"rational\"\n",
    "        },\n",
    "        {\n",
    "            \"de\": \"mutig\",\n",
    "            \"en\": \"brave\"\n",
    "        }\n",
    "    ]\n",
    "})"
   ]
  },
  {
   "cell_type": "markdown",
   "metadata": {},
   "source": [
    "… it becomes really hard to maintain traits. If you were to rename or translate one of them, you would need to find all other character documents with the same trait and perform the changes there too. If we only refer to a trait in another collection, it is as easy as updating a single document."
   ]
  },
  {
   "cell_type": "markdown",
   "metadata": {},
   "source": [
    "![join](img/join.png)"
   ]
  },
  {
   "cell_type": "markdown",
   "metadata": {},
   "source": [
    "# Traits Collection"
   ]
  },
  {
   "cell_type": "code",
   "execution_count": null,
   "metadata": {},
   "outputs": [],
   "source": [
    "# Create the Characters Collection \n",
    "db.createCollection(name=\"Traits\")"
   ]
  },
  {
   "cell_type": "code",
   "execution_count": null,
   "metadata": {},
   "outputs": [],
   "source": [
    "insert_query = \"\"\"\n",
    "LET data = [\n",
    "    { \"_key\": \"A\", \"en\": \"strong\", \"de\": \"stark\" },\n",
    "    { \"_key\": \"B\", \"en\": \"polite\", \"de\": \"freundlich\" },\n",
    "    { \"_key\": \"C\", \"en\": \"loyal\", \"de\": \"loyal\" },\n",
    "    { \"_key\": \"D\", \"en\": \"beautiful\", \"de\": \"schön\" },\n",
    "    { \"_key\": \"E\", \"en\": \"sneaky\", \"de\": \"hinterlistig\" },\n",
    "    { \"_key\": \"F\", \"en\": \"experienced\", \"de\": \"erfahren\" },\n",
    "    { \"_key\": \"G\", \"en\": \"corrupt\", \"de\": \"korrupt\" },\n",
    "    { \"_key\": \"H\", \"en\": \"powerful\", \"de\": \"einflussreich\" },\n",
    "    { \"_key\": \"I\", \"en\": \"naive\", \"de\": \"naiv\" },\n",
    "    { \"_key\": \"J\", \"en\": \"unmarried\", \"de\": \"unverheiratet\" },\n",
    "    { \"_key\": \"K\", \"en\": \"skillful\", \"de\": \"geschickt\" },\n",
    "    { \"_key\": \"L\", \"en\": \"young\", \"de\": \"jung\" },\n",
    "    { \"_key\": \"M\", \"en\": \"smart\", \"de\": \"klug\" },\n",
    "    { \"_key\": \"N\", \"en\": \"rational\", \"de\": \"rational\" },\n",
    "    { \"_key\": \"O\", \"en\": \"ruthless\", \"de\": \"skrupellos\" },\n",
    "    { \"_key\": \"P\", \"en\": \"brave\", \"de\": \"mutig\" },\n",
    "    { \"_key\": \"Q\", \"en\": \"mighty\", \"de\": \"mächtig\" },\n",
    "    { \"_key\": \"R\", \"en\": \"weak\", \"de\": \"schwach\" }\n",
    "]\n",
    "  \n",
    "\n",
    "FOR d IN data\n",
    "    INSERT d INTO Traits\n",
    "\"\"\"\n",
    "\n",
    "db.AQLQuery(insert_query)"
   ]
  },
  {
   "cell_type": "markdown",
   "metadata": {},
   "source": [
    "Let us quickly check the contents of the Traits collection:"
   ]
  },
  {
   "cell_type": "code",
   "execution_count": null,
   "metadata": {},
   "outputs": [],
   "source": [
    "all_traits = \"\"\"\n",
    "FOR t IN Traits\n",
    "    RETURN t\n",
    "\"\"\"\n",
    "\n",
    "query_result = db.AQLQuery(all_traits, rawResults=True)\n",
    "for doc in  query_result:\n",
    "    print(doc)\n",
    "    print()"
   ]
  },
  {
   "cell_type": "markdown",
   "metadata": {},
   "source": [
    "# Joining Traits"
   ]
  },
  {
   "cell_type": "markdown",
   "metadata": {},
   "source": [
    "Let’s start simple by returning only the traits attribute of each character:"
   ]
  },
  {
   "cell_type": "code",
   "execution_count": null,
   "metadata": {},
   "outputs": [],
   "source": [
    "all_characters_traits = \"\"\"\n",
    "FOR c IN Characters\n",
    "    RETURN c.traits\n",
    "\"\"\"\n",
    "\n",
    "query_result = db.AQLQuery(all_characters_traits, rawResults=True)\n",
    "for doc in  query_result:\n",
    "    print(doc)\n",
    "    print()"
   ]
  },
  {
   "cell_type": "markdown",
   "metadata": {},
   "source": [
    "We can use the traits array together with the [DOCUMENT()](https://www.arangodb.com/docs/stable/aql/functions-miscellaneous.html#document) function to use the elements as document keys and look them up in the Traits collection.\n",
    "The DOCUMENT() function can be used to look up a single or multiple documents via document identifiers. In our example, we pass the collection name from which we want to fetch documents as the first argument (\"Traits\") and an array of document keys (_key attribute) as the second argument. In the [RETURN](https://www.arangodb.com/docs/stable/aql/operations-return.html) statement we get an array of the full trait documents for each character."
   ]
  },
  {
   "cell_type": "code",
   "execution_count": null,
   "metadata": {},
   "outputs": [],
   "source": [
    "all_characters_traits = \"\"\"\n",
    "FOR c IN Characters\n",
    "    LIMIT 5\n",
    "    RETURN DOCUMENT(\"Traits\", c.traits)\n",
    "\"\"\"\n",
    "\n",
    "query_result = db.AQLQuery(all_characters_traits, rawResults=True)\n",
    "for doc in  query_result:\n",
    "    print(doc)\n",
    "    print()"
   ]
  },
  {
   "cell_type": "markdown",
   "metadata": {},
   "source": [
    "This is a bit too much information, so let’s only return English labels using the array expansion notation:"
   ]
  },
  {
   "cell_type": "code",
   "execution_count": null,
   "metadata": {},
   "outputs": [],
   "source": [
    "all_characters_traits = \"\"\"\n",
    "FOR c IN Characters\n",
    "    LIMIT 5\n",
    "    RETURN DOCUMENT(\"Traits\", c.traits)[*].en\n",
    "\"\"\"\n",
    "\n",
    "query_result = db.AQLQuery(all_characters_traits, rawResults=True)\n",
    "for doc in  query_result:\n",
    "    print(doc)\n",
    "    print()"
   ]
  },
  {
   "cell_type": "markdown",
   "metadata": {},
   "source": [
    "# Combining Characters and Traits"
   ]
  },
  {
   "cell_type": "markdown",
   "metadata": {},
   "source": [
    "Great, we resolved the letters to meaningful traits! But we also need to know to which character they belong. Thus, we need to merge both the character document and the data from the trait documents:\n",
    "\n"
   ]
  },
  {
   "cell_type": "code",
   "execution_count": null,
   "metadata": {},
   "outputs": [],
   "source": [
    "all_characters_traits = \"\"\"\n",
    "FOR c IN Characters\n",
    "    LIMIT 5\n",
    "    RETURN MERGE(c, { traits: DOCUMENT(\"Traits\", c.traits)[*].en } )\n",
    "\"\"\"\n",
    "\n",
    "query_result = db.AQLQuery(all_characters_traits, rawResults=True)\n",
    "for doc in  query_result:\n",
    "    print(doc)\n",
    "    print()    "
   ]
  },
  {
   "cell_type": "markdown",
   "metadata": {},
   "source": [
    "The [MERGE()](https://www.arangodb.com/docs/stable/aql/functions-document.html#merge) functions merges objects together. Because we used an object { traits: ... } which has the same attribute name traits as the original character attribute, the latter got overwritten by the merge operation."
   ]
  },
  {
   "cell_type": "markdown",
   "metadata": {},
   "source": [
    "# Joining Characters and Traits"
   ]
  },
  {
   "cell_type": "markdown",
   "metadata": {},
   "source": [
    "The DOCUMENT() function utilizes primary indices to look up documents quickly. It is limited to find documents via their identifiers however. For a use case like in our example it is sufficient to accomplish a simple join.\n",
    "\n",
    "There is another, more flexible syntax for joins: nested [FOR](https://www.arangodb.com/docs/stable/aql/operations-for.html) loops over multiple collections, with a [FILTER](https://www.arangodb.com/docs/stable/aql/operations-filter.html) condition to match up attributes. In case of the traits key array, there needs to be a third loop to iterate over the keys:"
   ]
  },
  {
   "cell_type": "code",
   "execution_count": null,
   "metadata": {},
   "outputs": [],
   "source": [
    "all_characters_traits = \"\"\"\n",
    "FOR c IN Characters\n",
    "  LIMIT 5\n",
    "  RETURN MERGE(c, {\n",
    "    traits: (\n",
    "      FOR key IN c.traits\n",
    "        FOR t IN Traits\n",
    "          FILTER t._key == key\n",
    "          RETURN t.en\n",
    "    )\n",
    "  })\n",
    "\"\"\"\n",
    "\n",
    "query_result = db.AQLQuery(all_characters_traits, rawResults=True)\n",
    "for doc in  query_result:\n",
    "    print(doc)\n",
    "    print()    "
   ]
  },
  {
   "cell_type": "markdown",
   "metadata": {},
   "source": [
    "For each character, it loops over its traits attribute (e.g. [\"D\",\"H\",\"C\"]) and for each document reference in this array, it loops over the Traits collections. There is a condition to match the document key with the key reference. The inner FOR loop and the FILTER get transformed to a primary index lookup in this case instead of building up a Cartesian product only to filter away everything but a single match: Document keys within a collection are unique, thus there can only be one match.\n",
    "\n",
    "Each written-out, English trait is returned and all the traits are then merged with the character document. The result is identical to the query using DOCUMENT(). However, this approach with a nested FOR loop and a FILTER is not limited to primary keys. You can do this with any other attribute as well. For an efficient lookup, make sure you add a hash index for this attribute. If its values are unique, then also set the index option to unique."
   ]
  },
  {
   "cell_type": "markdown",
   "metadata": {},
   "source": [
    "# Next Steps"
   ]
  },
  {
   "cell_type": "markdown",
   "metadata": {},
   "source": [
    "To continue playing and working with ArangoDB beyond the temporary database, you can:\n",
    "\n",
    "* [Get a 2 week free Trial with the ArangoDB Cloud](https://cloud.arangodb.com/home?utm_source=AQLJoin&utm_medium=Github&utm_campaign=ArangoDB%20University)\n",
    "* [Download ArangoDB](https://www.arangodb.com/download-major/)\n",
    "* Keep Learning at thttps://www.arangodb.com/arangodb-training-center/"
   ]
  },
  {
   "cell_type": "markdown",
   "metadata": {},
   "source": [
    "# Further Links"
   ]
  },
  {
   "cell_type": "markdown",
   "metadata": {},
   "source": [
    "* https://www.arangodb.com/docs/stable/aql/tutorial.html"
   ]
  }
 ],
 "metadata": {
  "kernelspec": {
   "display_name": "Python 3",
   "language": "python",
   "name": "python3"
  },
  "language_info": {
   "codemirror_mode": {
    "name": "ipython",
    "version": 3
   },
   "file_extension": ".py",
   "mimetype": "text/x-python",
   "name": "python",
   "nbconvert_exporter": "python",
   "pygments_lexer": "ipython3",
   "version": "3.7.7"
  }
 },
 "nbformat": 4,
 "nbformat_minor": 4
}